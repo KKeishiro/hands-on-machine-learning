{
 "cells": [
  {
   "cell_type": "markdown",
   "metadata": {},
   "source": [
    "## Setup"
   ]
  },
  {
   "cell_type": "code",
   "execution_count": 1,
   "metadata": {
    "collapsed": true
   },
   "outputs": [],
   "source": [
    "# Common imports\n",
    "import numpy as np\n",
    "import os\n",
    "\n",
    "# to make this notebook's output stable across runs\n",
    "def reset_graph(seed=42):\n",
    "    tf.reset_default_graph()\n",
    "    tf.set_random_seed(seed)\n",
    "    np.random.seed(seed)\n",
    "\n",
    "# To plot pretty figures\n",
    "%matplotlib inline\n",
    "import seaborn as sb\n",
    "import matplotlib\n",
    "import matplotlib.pyplot as plt\n",
    "plt.rcParams['axes.labelsize'] = 14\n",
    "plt.rcParams['xtick.labelsize'] = 12\n",
    "plt.rcParams['ytick.labelsize'] = 12\n",
    "\n",
    "# Where to save the figures\n",
    "PROJECT_ROOT_DIR = \".\"\n",
    "CHAPTER_ID = \"Chapter10\"\n",
    "\n",
    "def save_fig(fig_id, tight_layout=True):\n",
    "    path = os.path.join(PROJECT_ROOT_DIR, \"images\", CHAPTER_ID, fig_id + \".png\")\n",
    "    print(\"Saving figure\", fig_id)\n",
    "    if tight_layout:\n",
    "        plt.tight_layout()\n",
    "    plt.savefig(path, format='png', dpi=300)"
   ]
  },
  {
   "cell_type": "markdown",
   "metadata": {},
   "source": [
    "## Perceptrons"
   ]
  },
  {
   "cell_type": "markdown",
   "metadata": {},
   "source": [
    "Scikit-Learn provides a Perceptron class that implements a single LTU (linear threshold unit) network. It can be used pretty much as we would expect."
   ]
  },
  {
   "cell_type": "code",
   "execution_count": 2,
   "metadata": {
    "collapsed": true
   },
   "outputs": [],
   "source": [
    "import numpy as np\n",
    "from sklearn.datasets import load_iris\n",
    "from sklearn.linear_model import Perceptron\n",
    "\n",
    "iris = load_iris()\n",
    "X = iris.data[:, (2, 3)]  # petal length, petal width\n",
    "y = (iris.target == 0).astype(np.int)\n",
    "\n",
    "per_clf = Perceptron(random_state=42)\n",
    "per_clf.fit(X, y)\n",
    "\n",
    "y_pred = per_clf.predict([[2, 0.5]])"
   ]
  },
  {
   "cell_type": "code",
   "execution_count": 3,
   "metadata": {},
   "outputs": [
    {
     "data": {
      "text/plain": [
       "array([1])"
      ]
     },
     "execution_count": 3,
     "metadata": {},
     "output_type": "execute_result"
    }
   ],
   "source": [
    "y_pred"
   ]
  },
  {
   "cell_type": "code",
   "execution_count": 4,
   "metadata": {},
   "outputs": [
    {
     "name": "stdout",
     "output_type": "stream",
     "text": [
      "Saving figure perceptron_iris_plot\n"
     ]
    },
    {
     "data": {
      "image/png": "[encoded data removed]",
      "text/plain": [
       "<matplotlib.figure.Figure at 0x10ad2ccc0>"
      ]
     },
     "metadata": {},
     "output_type": "display_data"
    }
   ],
   "source": [
    "a = -per_clf.coef_[0][0] / per_clf.coef_[0][1]\n",
    "b = -per_clf.intercept_ / per_clf.coef_[0][1]\n",
    "\n",
    "axes = [0, 5, 0, 2]\n",
    "\n",
    "x0, x1 = np.meshgrid(\n",
    "        np.linspace(axes[0], axes[1], 500).reshape(-1, 1),\n",
    "        np.linspace(axes[2], axes[3], 200).reshape(-1, 1),\n",
    "    )\n",
    "X_new = np.c_[x0.ravel(), x1.ravel()]\n",
    "y_predict = per_clf.predict(X_new)\n",
    "zz = y_predict.reshape(x0.shape)\n",
    "\n",
    "plt.figure(figsize=(10, 4))\n",
    "plt.plot(X[y==0, 0], X[y==0, 1], \"bs\", label=\"Not Iris-Setosa\")\n",
    "plt.plot(X[y==1, 0], X[y==1, 1], \"yo\", label=\"Iris-Setosa\")\n",
    "\n",
    "plt.plot([axes[0], axes[1]], [a * axes[0] + b, a * axes[1] + b], \"k-\", linewidth=3)\n",
    "from matplotlib.colors import ListedColormap\n",
    "custom_cmap = ListedColormap(['#9898ff', '#fafab0'])\n",
    "\n",
    "plt.contourf(x0, x1, zz, cmap=custom_cmap, linewidth=5)\n",
    "plt.xlabel(\"Petal length\", fontsize=14)\n",
    "plt.ylabel(\"Petal width\", fontsize=14)\n",
    "plt.legend(loc=\"lower right\", fontsize=14)\n",
    "plt.axis(axes)\n",
    "\n",
    "save_fig(\"perceptron_iris_plot\")\n",
    "plt.show()"
   ]
  },
  {
   "cell_type": "markdown",
   "metadata": {},
   "source": [
    "## Activation functions"
   ]
  },
  {
   "cell_type": "code",
   "execution_count": 5,
   "metadata": {
    "collapsed": true
   },
   "outputs": [],
   "source": [
    "def logit(z):\n",
    "    return 1 / (1 + np.exp(-z))\n",
    "\n",
    "def relu(z):\n",
    "    return np.maximum(0, z)\n",
    "\n",
    "def derivative(f, z, eps=0.000001):\n",
    "    return (f(z + eps) - f(z - eps))/(2 * eps)"
   ]
  },
  {
   "cell_type": "code",
   "execution_count": 6,
   "metadata": {},
   "outputs": [
    {
     "name": "stdout",
     "output_type": "stream",
     "text": [
      "Saving figure activation_functions_plot\n"
     ]
    },
    {
     "data": {
      "image/png": "[encoded data removed]",
      "text/plain": [
       "<matplotlib.figure.Figure at 0x119f4d390>"
      ]
     },
     "metadata": {},
     "output_type": "display_data"
    }
   ],
   "source": [
    "z = np.linspace(-5, 5, 200)\n",
    "\n",
    "plt.figure(figsize=(11,4))\n",
    "\n",
    "plt.subplot(121)\n",
    "plt.plot(z, np.sign(z), \"r-\", linewidth=2, label=\"Step\")\n",
    "plt.plot(z, logit(z), \"g--\", linewidth=2, label=\"Logit\")\n",
    "plt.plot(z, np.tanh(z), \"b-\", linewidth=2, label=\"Tanh\")\n",
    "plt.plot(z, relu(z), \"m-.\", linewidth=2, label=\"ReLU\")\n",
    "plt.grid(True)\n",
    "plt.legend(loc=\"center right\", fontsize=14)\n",
    "plt.title(\"Activation functions\", fontsize=14)\n",
    "plt.axis([-5, 5, -1.2, 1.2])\n",
    "\n",
    "plt.subplot(122)\n",
    "plt.plot(z, derivative(np.sign, z), \"r-\", linewidth=2, label=\"Step\")\n",
    "plt.plot(0, 0, \"ro\", markersize=5)\n",
    "plt.plot(0, 0, \"rx\", markersize=10)\n",
    "plt.plot(z, derivative(logit, z), \"g--\", linewidth=2, label=\"Logit\")\n",
    "plt.plot(z, derivative(np.tanh, z), \"b-\", linewidth=2, label=\"Tanh\")\n",
    "plt.plot(z, derivative(relu, z), \"m-.\", linewidth=2, label=\"ReLU\")\n",
    "plt.grid(True)\n",
    "#plt.legend(loc=\"center right\", fontsize=14)\n",
    "plt.title(\"Derivatives\", fontsize=14)\n",
    "plt.axis([-5, 5, -0.2, 1.2])\n",
    "\n",
    "save_fig(\"activation_functions_plot\")\n",
    "plt.show()\n"
   ]
  },
  {
   "cell_type": "code",
   "execution_count": 7,
   "metadata": {
    "collapsed": true
   },
   "outputs": [],
   "source": [
    "def heaviside(z):\n",
    "    return (z >= 0).astype(z.dtype)\n",
    "\n",
    "def sigmoid(z):\n",
    "    return 1/(1+np.exp(-z))\n",
    "\n",
    "def mlp_xor(x1, x2, activation=heaviside):\n",
    "    return activation(-activation(x1 + x2 - 1.5) + activation(x1 + x2 - 0.5) - 0.5)"
   ]
  },
  {
   "cell_type": "code",
   "execution_count": 8,
   "metadata": {},
   "outputs": [
    {
     "data": {
      "image/png": "[encoded data removed]",
      "text/plain": [
       "<matplotlib.figure.Figure at 0x11625f860>"
      ]
     },
     "metadata": {},
     "output_type": "display_data"
    }
   ],
   "source": [
    "x1s = np.linspace(-0.2, 1.2, 100)\n",
    "x2s = np.linspace(-0.2, 1.2, 100)\n",
    "x1, x2 = np.meshgrid(x1s, x2s)\n",
    "\n",
    "z1 = mlp_xor(x1, x2, activation=heaviside)\n",
    "z2 = mlp_xor(x1, x2, activation=sigmoid)\n",
    "\n",
    "plt.figure(figsize=(10,4))\n",
    "\n",
    "plt.subplot(121)\n",
    "plt.contourf(x1, x2, z1)\n",
    "plt.plot([0, 1], [0, 1], \"gs\", markersize=20)\n",
    "plt.plot([0, 1], [1, 0], \"y^\", markersize=20)\n",
    "plt.title(\"Activation function: heaviside\", fontsize=14)\n",
    "plt.grid(True)\n",
    "\n",
    "plt.subplot(122)\n",
    "plt.contourf(x1, x2, z2)\n",
    "plt.plot([0, 1], [0, 1], \"gs\", markersize=20)\n",
    "plt.plot([0, 1], [1, 0], \"y^\", markersize=20)\n",
    "plt.title(\"Activation function: sigmoid\", fontsize=14)\n",
    "plt.grid(True)"
   ]
  },
  {
   "cell_type": "markdown",
   "metadata": {},
   "source": [
    "## FNN for MNIST"
   ]
  },
  {
   "cell_type": "markdown",
   "metadata": {},
   "source": [
    "### FNN for MNIST"
   ]
  },
  {
   "cell_type": "markdown",
   "metadata": {},
   "source": [
    "The simplest way to train an MLP with TensorFlow is to use the high-level API TF.Learn, which offers a Scikit-Learn-compatible API. The DNNClassifier class makes it fairly easy to train a deep neural network with any number of hidden layers, and a softmax output layer to output estimated class probabilities.\n",
    "\n",
    "Under the hood, the DNNClasiffier class creates all the neuron layers, based on the ReLU activation function (we can change this by setting the activation_fn hyperparameter). The output layer relies on the softmax function, and the cost function is crossentropy."
   ]
  },
  {
   "cell_type": "code",
   "execution_count": 9,
   "metadata": {},
   "outputs": [
    {
     "name": "stdout",
     "output_type": "stream",
     "text": [
      "Successfully downloaded train-images-idx3-ubyte.gz 9912422 bytes.\n",
      "Extracting /tmp/data/train-images-idx3-ubyte.gz\n",
      "Successfully downloaded train-labels-idx1-ubyte.gz 28881 bytes.\n",
      "Extracting /tmp/data/train-labels-idx1-ubyte.gz\n",
      "Successfully downloaded t10k-images-idx3-ubyte.gz 1648877 bytes.\n",
      "Extracting /tmp/data/t10k-images-idx3-ubyte.gz\n",
      "Successfully downloaded t10k-labels-idx1-ubyte.gz 4542 bytes.\n",
      "Extracting /tmp/data/t10k-labels-idx1-ubyte.gz\n"
     ]
    }
   ],
   "source": [
    "from tensorflow.examples.tutorials.mnist import input_data\n",
    "\n",
    "mnist = input_data.read_data_sets(\"/tmp/data/\")"
   ]
  },
  {
   "cell_type": "code",
   "execution_count": 10,
   "metadata": {
    "collapsed": true
   },
   "outputs": [],
   "source": [
    "X_train = mnist.train.images\n",
    "X_test = mnist.test.images\n",
    "y_train = mnist.train.labels.astype(\"int\")\n",
    "y_test = mnist.test.labels.astype(\"int\")"
   ]
  },
  {
   "cell_type": "code",
   "execution_count": 11,
   "metadata": {
    "scrolled": true
   },
   "outputs": [
    {
     "name": "stdout",
     "output_type": "stream",
     "text": [
      "WARNING:tensorflow:Using temporary folder as model directory: /var/folders/r4/vyv94gpj7_xdkpj85lw7gpdr0000gn/T/tmplg2nia96\n",
      "INFO:tensorflow:Using config: {'_task_type': None, '_task_id': 0, '_cluster_spec': <tensorflow.python.training.server_lib.ClusterSpec object at 0x125a62358>, '_master': '', '_num_ps_replicas': 0, '_num_worker_replicas': 0, '_environment': 'local', '_is_chief': True, '_evaluation_master': '', '_tf_config': gpu_options {\n",
      "  per_process_gpu_memory_fraction: 1\n",
      "}\n",
      ", '_tf_random_seed': 42, '_save_summary_steps': 100, '_save_checkpoints_secs': 600, '_session_config': None, '_save_checkpoints_steps': None, '_keep_checkpoint_max': 5, '_keep_checkpoint_every_n_hours': 10000, '_model_dir': '/var/folders/r4/vyv94gpj7_xdkpj85lw7gpdr0000gn/T/tmplg2nia96'}\n",
      "WARNING:tensorflow:From /Users/user/anaconda/lib/python3.6/site-packages/tensorflow/contrib/learn/python/learn/estimators/head.py:625: scalar_summary (from tensorflow.python.ops.logging_ops) is deprecated and will be removed after 2016-11-30.\n",
      "Instructions for updating:\n",
      "Please switch to tf.summary.scalar. Note that tf.summary.scalar uses the node name instead of the tag. This means that TensorFlow will automatically de-duplicate summary names based on the scope they are created in. Also, passing a tensor or list of tags to a scalar summary op is no longer supported.\n",
      "INFO:tensorflow:Create CheckpointSaverHook.\n",
      "INFO:tensorflow:Saving checkpoints for 1 into /var/folders/r4/vyv94gpj7_xdkpj85lw7gpdr0000gn/T/tmplg2nia96/model.ckpt.\n",
      "INFO:tensorflow:loss = 2.36404, step = 1\n",
      "INFO:tensorflow:global_step/sec: 188.048\n",
      "INFO:tensorflow:loss = 0.309677, step = 101 (0.533 sec)\n",
      "INFO:tensorflow:global_step/sec: 183.761\n",
      "INFO:tensorflow:loss = 0.254103, step = 201 (0.546 sec)\n",
      "INFO:tensorflow:global_step/sec: 178.302\n",
      "INFO:tensorflow:loss = 0.403251, step = 301 (0.559 sec)\n",
      "INFO:tensorflow:global_step/sec: 144.853\n",
      "INFO:tensorflow:loss = 0.248612, step = 401 (0.692 sec)\n",
      "INFO:tensorflow:global_step/sec: 166.762\n",
      "INFO:tensorflow:loss = 0.238972, step = 501 (0.600 sec)\n",
      "INFO:tensorflow:global_step/sec: 180.079\n",
      "INFO:tensorflow:loss = 0.0964612, step = 601 (0.554 sec)\n",
      "INFO:tensorflow:global_step/sec: 179.789\n",
      "INFO:tensorflow:loss = 0.119384, step = 701 (0.557 sec)\n",
      "INFO:tensorflow:global_step/sec: 183.412\n",
      "INFO:tensorflow:loss = 0.184879, step = 801 (0.543 sec)\n",
      "INFO:tensorflow:global_step/sec: 180.407\n",
      "INFO:tensorflow:loss = 0.093465, step = 901 (0.555 sec)\n",
      "INFO:tensorflow:global_step/sec: 139.56\n",
      "INFO:tensorflow:loss = 0.206881, step = 1001 (0.725 sec)\n",
      "INFO:tensorflow:global_step/sec: 137.146\n",
      "INFO:tensorflow:loss = 0.187316, step = 1101 (0.720 sec)\n",
      "INFO:tensorflow:global_step/sec: 167.394\n",
      "INFO:tensorflow:loss = 0.1543, step = 1201 (0.598 sec)\n",
      "INFO:tensorflow:global_step/sec: 179.605\n",
      "INFO:tensorflow:loss = 0.163595, step = 1301 (0.556 sec)\n",
      "INFO:tensorflow:global_step/sec: 132.101\n",
      "INFO:tensorflow:loss = 0.0720562, step = 1401 (0.757 sec)\n",
      "INFO:tensorflow:global_step/sec: 172.486\n",
      "INFO:tensorflow:loss = 0.0723128, step = 1501 (0.581 sec)\n",
      "INFO:tensorflow:global_step/sec: 124.974\n",
      "INFO:tensorflow:loss = 0.121916, step = 1601 (0.803 sec)\n",
      "INFO:tensorflow:global_step/sec: 122.726\n",
      "INFO:tensorflow:loss = 0.039761, step = 1701 (0.820 sec)\n",
      "INFO:tensorflow:global_step/sec: 124.038\n",
      "INFO:tensorflow:loss = 0.152173, step = 1801 (0.806 sec)\n",
      "INFO:tensorflow:global_step/sec: 131.709\n",
      "INFO:tensorflow:loss = 0.070405, step = 1901 (0.754 sec)\n",
      "INFO:tensorflow:global_step/sec: 135.495\n",
      "INFO:tensorflow:loss = 0.0662507, step = 2001 (0.740 sec)\n",
      "INFO:tensorflow:global_step/sec: 135.515\n",
      "INFO:tensorflow:loss = 0.0241838, step = 2101 (0.741 sec)\n",
      "INFO:tensorflow:global_step/sec: 135.947\n",
      "INFO:tensorflow:loss = 0.0292274, step = 2201 (0.728 sec)\n",
      "INFO:tensorflow:global_step/sec: 158.199\n",
      "INFO:tensorflow:loss = 0.0513423, step = 2301 (0.632 sec)\n",
      "INFO:tensorflow:global_step/sec: 160.764\n",
      "INFO:tensorflow:loss = 0.0555448, step = 2401 (0.622 sec)\n",
      "INFO:tensorflow:global_step/sec: 161.52\n",
      "INFO:tensorflow:loss = 0.0884138, step = 2501 (0.621 sec)\n",
      "INFO:tensorflow:global_step/sec: 143.978\n",
      "INFO:tensorflow:loss = 0.0315207, step = 2601 (0.695 sec)\n",
      "INFO:tensorflow:global_step/sec: 168.451\n",
      "INFO:tensorflow:loss = 0.0126636, step = 2701 (0.595 sec)\n",
      "INFO:tensorflow:global_step/sec: 168.082\n",
      "INFO:tensorflow:loss = 0.0514662, step = 2801 (0.592 sec)\n",
      "INFO:tensorflow:global_step/sec: 149.93\n",
      "INFO:tensorflow:loss = 0.088122, step = 2901 (0.674 sec)\n",
      "INFO:tensorflow:global_step/sec: 115.394\n",
      "INFO:tensorflow:loss = 0.0138777, step = 3001 (0.863 sec)\n",
      "INFO:tensorflow:global_step/sec: 146.87\n",
      "INFO:tensorflow:loss = 0.044173, step = 3101 (0.677 sec)\n",
      "INFO:tensorflow:global_step/sec: 165.139\n",
      "INFO:tensorflow:loss = 0.0120668, step = 3201 (0.608 sec)\n",
      "INFO:tensorflow:global_step/sec: 173.269\n",
      "INFO:tensorflow:loss = 0.0452911, step = 3301 (0.575 sec)\n",
      "INFO:tensorflow:global_step/sec: 178.449\n",
      "INFO:tensorflow:loss = 0.152817, step = 3401 (0.564 sec)\n",
      "INFO:tensorflow:global_step/sec: 128.126\n",
      "INFO:tensorflow:loss = 0.0838171, step = 3501 (0.783 sec)\n",
      "INFO:tensorflow:global_step/sec: 160.168\n",
      "INFO:tensorflow:loss = 0.156769, step = 3601 (0.629 sec)\n",
      "INFO:tensorflow:global_step/sec: 166.061\n",
      "INFO:tensorflow:loss = 0.0343551, step = 3701 (0.595 sec)\n",
      "INFO:tensorflow:global_step/sec: 148.227\n",
      "INFO:tensorflow:loss = 0.00878235, step = 3801 (0.675 sec)\n",
      "INFO:tensorflow:global_step/sec: 176.653\n",
      "INFO:tensorflow:loss = 0.152629, step = 3901 (0.563 sec)\n",
      "INFO:tensorflow:global_step/sec: 173.803\n",
      "INFO:tensorflow:loss = 0.0950618, step = 4001 (0.577 sec)\n",
      "INFO:tensorflow:global_step/sec: 163.448\n",
      "INFO:tensorflow:loss = 0.0524628, step = 4101 (0.613 sec)\n",
      "INFO:tensorflow:global_step/sec: 114.069\n",
      "INFO:tensorflow:loss = 0.0629685, step = 4201 (0.880 sec)\n",
      "INFO:tensorflow:global_step/sec: 127.596\n",
      "INFO:tensorflow:loss = 0.166633, step = 4301 (0.783 sec)\n",
      "INFO:tensorflow:global_step/sec: 143.502\n",
      "INFO:tensorflow:loss = 0.108088, step = 4401 (0.694 sec)\n",
      "INFO:tensorflow:global_step/sec: 144.054\n",
      "INFO:tensorflow:loss = 0.0167887, step = 4501 (0.699 sec)\n",
      "INFO:tensorflow:global_step/sec: 168.577\n",
      "INFO:tensorflow:loss = 0.0170214, step = 4601 (0.589 sec)\n",
      "INFO:tensorflow:global_step/sec: 168.83\n",
      "INFO:tensorflow:loss = 0.00988497, step = 4701 (0.590 sec)\n",
      "INFO:tensorflow:global_step/sec: 164.555\n",
      "INFO:tensorflow:loss = 0.0218255, step = 4801 (0.608 sec)\n",
      "INFO:tensorflow:global_step/sec: 161.651\n",
      "INFO:tensorflow:loss = 0.0958064, step = 4901 (0.623 sec)\n",
      "INFO:tensorflow:global_step/sec: 166.284\n",
      "INFO:tensorflow:loss = 0.032898, step = 5001 (0.598 sec)\n",
      "INFO:tensorflow:global_step/sec: 94.2941\n",
      "INFO:tensorflow:loss = 0.00692303, step = 5101 (1.059 sec)\n",
      "INFO:tensorflow:global_step/sec: 139.526\n",
      "INFO:tensorflow:loss = 0.0374796, step = 5201 (0.720 sec)\n",
      "INFO:tensorflow:global_step/sec: 154.127\n",
      "INFO:tensorflow:loss = 0.0408561, step = 5301 (0.647 sec)\n",
      "INFO:tensorflow:global_step/sec: 164.735\n",
      "INFO:tensorflow:loss = 0.0703828, step = 5401 (0.606 sec)\n",
      "INFO:tensorflow:global_step/sec: 160.96\n",
      "INFO:tensorflow:loss = 0.0597546, step = 5501 (0.623 sec)\n",
      "INFO:tensorflow:global_step/sec: 163.786\n",
      "INFO:tensorflow:loss = 0.0637175, step = 5601 (0.608 sec)\n",
      "INFO:tensorflow:global_step/sec: 124.965\n",
      "INFO:tensorflow:loss = 0.0142295, step = 5701 (0.803 sec)\n",
      "INFO:tensorflow:global_step/sec: 158.186\n",
      "INFO:tensorflow:loss = 0.008777, step = 5801 (0.632 sec)\n",
      "INFO:tensorflow:global_step/sec: 172.402\n",
      "INFO:tensorflow:loss = 0.0868253, step = 5901 (0.579 sec)\n",
      "INFO:tensorflow:global_step/sec: 175.6\n",
      "INFO:tensorflow:loss = 0.109432, step = 6001 (0.566 sec)\n",
      "INFO:tensorflow:global_step/sec: 183.297\n",
      "INFO:tensorflow:loss = 0.0131425, step = 6101 (0.548 sec)\n",
      "INFO:tensorflow:global_step/sec: 180.937\n",
      "INFO:tensorflow:loss = 0.0240843, step = 6201 (0.552 sec)\n",
      "INFO:tensorflow:global_step/sec: 171.41\n",
      "INFO:tensorflow:loss = 0.085723, step = 6301 (0.585 sec)\n",
      "INFO:tensorflow:global_step/sec: 141.208\n",
      "INFO:tensorflow:loss = 0.0259363, step = 6401 (0.705 sec)\n",
      "INFO:tensorflow:global_step/sec: 171.043\n",
      "INFO:tensorflow:loss = 0.00852303, step = 6501 (0.584 sec)\n",
      "INFO:tensorflow:global_step/sec: 177.856\n",
      "INFO:tensorflow:loss = 0.0227815, step = 6601 (0.565 sec)\n",
      "INFO:tensorflow:global_step/sec: 179.695\n",
      "INFO:tensorflow:loss = 0.0275877, step = 6701 (0.555 sec)\n",
      "INFO:tensorflow:global_step/sec: 177.165\n",
      "INFO:tensorflow:loss = 0.0085514, step = 6801 (0.567 sec)\n"
     ]
    },
    {
     "name": "stdout",
     "output_type": "stream",
     "text": [
      "INFO:tensorflow:global_step/sec: 183.906\n",
      "INFO:tensorflow:loss = 0.0113093, step = 6901 (0.541 sec)\n",
      "INFO:tensorflow:global_step/sec: 143.534\n",
      "INFO:tensorflow:loss = 0.0190613, step = 7001 (0.699 sec)\n",
      "INFO:tensorflow:global_step/sec: 167.443\n",
      "INFO:tensorflow:loss = 0.00409009, step = 7101 (0.596 sec)\n",
      "INFO:tensorflow:global_step/sec: 179.339\n",
      "INFO:tensorflow:loss = 0.0582136, step = 7201 (0.559 sec)\n",
      "INFO:tensorflow:global_step/sec: 150.45\n",
      "INFO:tensorflow:loss = 0.00672715, step = 7301 (0.664 sec)\n",
      "INFO:tensorflow:global_step/sec: 151.454\n",
      "INFO:tensorflow:loss = 0.0127499, step = 7401 (0.661 sec)\n",
      "INFO:tensorflow:global_step/sec: 163.794\n",
      "INFO:tensorflow:loss = 0.005338, step = 7501 (0.613 sec)\n",
      "INFO:tensorflow:global_step/sec: 138.813\n",
      "INFO:tensorflow:loss = 0.0160609, step = 7601 (0.718 sec)\n",
      "INFO:tensorflow:global_step/sec: 173.37\n",
      "INFO:tensorflow:loss = 0.00499156, step = 7701 (0.582 sec)\n",
      "INFO:tensorflow:global_step/sec: 134.318\n",
      "INFO:tensorflow:loss = 0.00483353, step = 7801 (0.741 sec)\n",
      "INFO:tensorflow:global_step/sec: 164.454\n",
      "INFO:tensorflow:loss = 0.00696935, step = 7901 (0.606 sec)\n",
      "INFO:tensorflow:global_step/sec: 166.041\n",
      "INFO:tensorflow:loss = 0.00272221, step = 8001 (0.603 sec)\n",
      "INFO:tensorflow:global_step/sec: 154.513\n",
      "INFO:tensorflow:loss = 0.0217708, step = 8101 (0.644 sec)\n",
      "INFO:tensorflow:global_step/sec: 178.494\n",
      "INFO:tensorflow:loss = 0.0288787, step = 8201 (0.562 sec)\n",
      "INFO:tensorflow:global_step/sec: 177.187\n",
      "INFO:tensorflow:loss = 0.0539877, step = 8301 (0.562 sec)\n",
      "INFO:tensorflow:global_step/sec: 176.173\n",
      "INFO:tensorflow:loss = 0.00857862, step = 8401 (0.568 sec)\n",
      "INFO:tensorflow:global_step/sec: 174.911\n",
      "INFO:tensorflow:loss = 0.00668675, step = 8501 (0.575 sec)\n",
      "INFO:tensorflow:global_step/sec: 149.497\n",
      "INFO:tensorflow:loss = 0.00526417, step = 8601 (0.665 sec)\n",
      "INFO:tensorflow:global_step/sec: 163.036\n",
      "INFO:tensorflow:loss = 0.00431127, step = 8701 (0.616 sec)\n",
      "INFO:tensorflow:global_step/sec: 154.451\n",
      "INFO:tensorflow:loss = 0.00488374, step = 8801 (0.645 sec)\n",
      "INFO:tensorflow:global_step/sec: 179.551\n",
      "INFO:tensorflow:loss = 0.00250303, step = 8901 (0.560 sec)\n",
      "INFO:tensorflow:global_step/sec: 177.376\n",
      "INFO:tensorflow:loss = 0.0148685, step = 9001 (0.562 sec)\n",
      "INFO:tensorflow:global_step/sec: 179.656\n",
      "INFO:tensorflow:loss = 0.00912793, step = 9101 (0.555 sec)\n",
      "INFO:tensorflow:global_step/sec: 170.157\n",
      "INFO:tensorflow:loss = 0.00432368, step = 9201 (0.588 sec)\n",
      "INFO:tensorflow:global_step/sec: 141.572\n",
      "INFO:tensorflow:loss = 0.0138446, step = 9301 (0.706 sec)\n",
      "INFO:tensorflow:global_step/sec: 172.183\n",
      "INFO:tensorflow:loss = 0.0518277, step = 9401 (0.581 sec)\n",
      "INFO:tensorflow:global_step/sec: 182.842\n",
      "INFO:tensorflow:loss = 0.00607764, step = 9501 (0.550 sec)\n",
      "INFO:tensorflow:global_step/sec: 178.444\n",
      "INFO:tensorflow:loss = 0.0207135, step = 9601 (0.557 sec)\n",
      "INFO:tensorflow:global_step/sec: 179.107\n",
      "INFO:tensorflow:loss = 0.0166932, step = 9701 (0.558 sec)\n",
      "INFO:tensorflow:global_step/sec: 183.263\n",
      "INFO:tensorflow:loss = 0.00487015, step = 9801 (0.546 sec)\n",
      "INFO:tensorflow:global_step/sec: 142.221\n",
      "INFO:tensorflow:loss = 0.0185824, step = 9901 (0.703 sec)\n",
      "INFO:tensorflow:global_step/sec: 171.693\n",
      "INFO:tensorflow:loss = 0.0240925, step = 10001 (0.583 sec)\n",
      "INFO:tensorflow:global_step/sec: 181.754\n",
      "INFO:tensorflow:loss = 0.00462607, step = 10101 (0.550 sec)\n",
      "INFO:tensorflow:global_step/sec: 177.878\n",
      "INFO:tensorflow:loss = 0.0100708, step = 10201 (0.563 sec)\n",
      "INFO:tensorflow:global_step/sec: 156.949\n",
      "INFO:tensorflow:loss = 0.00573162, step = 10301 (0.638 sec)\n",
      "INFO:tensorflow:global_step/sec: 134.105\n",
      "INFO:tensorflow:loss = 0.0101062, step = 10401 (0.753 sec)\n",
      "INFO:tensorflow:global_step/sec: 154.311\n",
      "INFO:tensorflow:loss = 0.00470994, step = 10501 (0.643 sec)\n",
      "INFO:tensorflow:global_step/sec: 160.533\n",
      "INFO:tensorflow:loss = 0.00745281, step = 10601 (0.619 sec)\n",
      "INFO:tensorflow:global_step/sec: 157.888\n",
      "INFO:tensorflow:loss = 0.0220603, step = 10701 (0.635 sec)\n",
      "INFO:tensorflow:global_step/sec: 179.577\n",
      "INFO:tensorflow:loss = 0.0147888, step = 10801 (0.559 sec)\n",
      "INFO:tensorflow:global_step/sec: 157.354\n",
      "INFO:tensorflow:loss = 0.00258084, step = 10901 (0.633 sec)\n",
      "INFO:tensorflow:global_step/sec: 143.55\n",
      "INFO:tensorflow:loss = 0.0285976, step = 11001 (0.698 sec)\n",
      "INFO:tensorflow:global_step/sec: 110.08\n",
      "INFO:tensorflow:loss = 0.0044351, step = 11101 (0.907 sec)\n",
      "INFO:tensorflow:global_step/sec: 145.493\n",
      "INFO:tensorflow:loss = 0.00119579, step = 11201 (0.692 sec)\n",
      "INFO:tensorflow:global_step/sec: 155.131\n",
      "INFO:tensorflow:loss = 0.0158182, step = 11301 (0.640 sec)\n",
      "INFO:tensorflow:global_step/sec: 155.087\n",
      "INFO:tensorflow:loss = 0.00693267, step = 11401 (0.644 sec)\n",
      "INFO:tensorflow:global_step/sec: 166.921\n",
      "INFO:tensorflow:loss = 0.0174892, step = 11501 (0.601 sec)\n",
      "INFO:tensorflow:global_step/sec: 173.67\n",
      "INFO:tensorflow:loss = 0.000888462, step = 11601 (0.573 sec)\n",
      "INFO:tensorflow:global_step/sec: 139.123\n",
      "INFO:tensorflow:loss = 0.0026345, step = 11701 (0.722 sec)\n",
      "INFO:tensorflow:global_step/sec: 160.76\n",
      "INFO:tensorflow:loss = 0.000522998, step = 11801 (0.620 sec)\n",
      "INFO:tensorflow:global_step/sec: 157.56\n",
      "INFO:tensorflow:loss = 0.0101293, step = 11901 (0.633 sec)\n",
      "INFO:tensorflow:global_step/sec: 172.824\n",
      "INFO:tensorflow:loss = 0.000120309, step = 12001 (0.579 sec)\n",
      "INFO:tensorflow:global_step/sec: 151.495\n",
      "INFO:tensorflow:loss = 0.00283077, step = 12101 (0.663 sec)\n",
      "INFO:tensorflow:global_step/sec: 137.168\n",
      "INFO:tensorflow:loss = 0.00376223, step = 12201 (0.726 sec)\n",
      "INFO:tensorflow:global_step/sec: 142.838\n",
      "INFO:tensorflow:loss = 0.00516198, step = 12301 (0.700 sec)\n",
      "INFO:tensorflow:global_step/sec: 164.616\n",
      "INFO:tensorflow:loss = 0.000395552, step = 12401 (0.607 sec)\n",
      "INFO:tensorflow:global_step/sec: 160.2\n",
      "INFO:tensorflow:loss = 0.0038692, step = 12501 (0.628 sec)\n",
      "INFO:tensorflow:global_step/sec: 174.353\n",
      "INFO:tensorflow:loss = 0.000996494, step = 12601 (0.574 sec)\n",
      "INFO:tensorflow:global_step/sec: 150.907\n",
      "INFO:tensorflow:loss = 0.00522744, step = 12701 (0.659 sec)\n",
      "INFO:tensorflow:global_step/sec: 138.379\n",
      "INFO:tensorflow:loss = 0.00650308, step = 12801 (0.728 sec)\n",
      "INFO:tensorflow:global_step/sec: 150.105\n",
      "INFO:tensorflow:loss = 0.00290468, step = 12901 (0.663 sec)\n",
      "INFO:tensorflow:global_step/sec: 162.958\n",
      "INFO:tensorflow:loss = 0.00306313, step = 13001 (0.612 sec)\n",
      "INFO:tensorflow:global_step/sec: 149.019\n",
      "INFO:tensorflow:loss = 0.0040113, step = 13101 (0.676 sec)\n",
      "INFO:tensorflow:global_step/sec: 150.388\n",
      "INFO:tensorflow:loss = 0.00749846, step = 13201 (0.663 sec)\n",
      "INFO:tensorflow:global_step/sec: 159.171\n",
      "INFO:tensorflow:loss = 0.00422553, step = 13301 (0.631 sec)\n",
      "INFO:tensorflow:global_step/sec: 127.273\n",
      "INFO:tensorflow:loss = 0.00333589, step = 13401 (0.783 sec)\n",
      "INFO:tensorflow:global_step/sec: 162.064\n",
      "INFO:tensorflow:loss = 0.00930926, step = 13501 (0.614 sec)\n",
      "INFO:tensorflow:global_step/sec: 179.615\n",
      "INFO:tensorflow:loss = 0.00580592, step = 13601 (0.557 sec)\n",
      "INFO:tensorflow:global_step/sec: 180.428\n",
      "INFO:tensorflow:loss = 0.00158466, step = 13701 (0.554 sec)\n",
      "INFO:tensorflow:global_step/sec: 170.706\n",
      "INFO:tensorflow:loss = 0.00957848, step = 13801 (0.590 sec)\n",
      "INFO:tensorflow:global_step/sec: 170.966\n",
      "INFO:tensorflow:loss = 0.0029991, step = 13901 (0.583 sec)\n",
      "INFO:tensorflow:global_step/sec: 172.667\n",
      "INFO:tensorflow:loss = 0.00257565, step = 14001 (0.578 sec)\n",
      "INFO:tensorflow:global_step/sec: 163.655\n",
      "INFO:tensorflow:loss = 0.0051015, step = 14101 (0.611 sec)\n",
      "INFO:tensorflow:global_step/sec: 167.177\n",
      "INFO:tensorflow:loss = 0.00931561, step = 14201 (0.599 sec)\n",
      "INFO:tensorflow:global_step/sec: 177.242\n",
      "INFO:tensorflow:loss = 0.00167436, step = 14301 (0.564 sec)\n",
      "INFO:tensorflow:global_step/sec: 166.368\n",
      "INFO:tensorflow:loss = 0.00068472, step = 14401 (0.603 sec)\n",
      "INFO:tensorflow:global_step/sec: 165.515\n",
      "INFO:tensorflow:loss = 0.000823331, step = 14501 (0.602 sec)\n",
      "INFO:tensorflow:global_step/sec: 176.581\n",
      "INFO:tensorflow:loss = 0.00392992, step = 14601 (0.567 sec)\n",
      "INFO:tensorflow:global_step/sec: 171.919\n",
      "INFO:tensorflow:loss = 0.00197606, step = 14701 (0.581 sec)\n",
      "INFO:tensorflow:global_step/sec: 178.757\n",
      "INFO:tensorflow:loss = 0.00111108, step = 14801 (0.561 sec)\n",
      "INFO:tensorflow:global_step/sec: 158.946\n",
      "INFO:tensorflow:loss = 0.00252097, step = 14901 (0.628 sec)\n",
      "INFO:tensorflow:global_step/sec: 171.226\n",
      "INFO:tensorflow:loss = 0.000814515, step = 15001 (0.587 sec)\n"
     ]
    },
    {
     "name": "stdout",
     "output_type": "stream",
     "text": [
      "INFO:tensorflow:global_step/sec: 169.363\n",
      "INFO:tensorflow:loss = 0.00237104, step = 15101 (0.587 sec)\n",
      "INFO:tensorflow:global_step/sec: 180.968\n",
      "INFO:tensorflow:loss = 0.00227502, step = 15201 (0.554 sec)\n",
      "INFO:tensorflow:global_step/sec: 169.829\n",
      "INFO:tensorflow:loss = 0.00141252, step = 15301 (0.588 sec)\n",
      "INFO:tensorflow:global_step/sec: 174.491\n",
      "INFO:tensorflow:loss = 0.00455337, step = 15401 (0.573 sec)\n",
      "INFO:tensorflow:global_step/sec: 176.122\n",
      "INFO:tensorflow:loss = 0.00491852, step = 15501 (0.570 sec)\n",
      "INFO:tensorflow:global_step/sec: 169.811\n",
      "INFO:tensorflow:loss = 0.00487903, step = 15601 (0.587 sec)\n",
      "INFO:tensorflow:global_step/sec: 179.843\n",
      "INFO:tensorflow:loss = 0.0134273, step = 15701 (0.556 sec)\n",
      "INFO:tensorflow:global_step/sec: 173.302\n",
      "INFO:tensorflow:loss = 0.00312125, step = 15801 (0.577 sec)\n",
      "INFO:tensorflow:global_step/sec: 167.37\n",
      "INFO:tensorflow:loss = 0.000708232, step = 15901 (0.601 sec)\n",
      "INFO:tensorflow:global_step/sec: 174.245\n",
      "INFO:tensorflow:loss = 0.00560298, step = 16001 (0.571 sec)\n",
      "INFO:tensorflow:global_step/sec: 160.24\n",
      "INFO:tensorflow:loss = 0.00430737, step = 16101 (0.625 sec)\n",
      "INFO:tensorflow:global_step/sec: 148.201\n",
      "INFO:tensorflow:loss = 7.45395e-05, step = 16201 (0.677 sec)\n",
      "INFO:tensorflow:global_step/sec: 157.94\n",
      "INFO:tensorflow:loss = 0.00280412, step = 16301 (0.630 sec)\n",
      "INFO:tensorflow:global_step/sec: 168.382\n",
      "INFO:tensorflow:loss = 0.001583, step = 16401 (0.593 sec)\n",
      "INFO:tensorflow:global_step/sec: 155.611\n",
      "INFO:tensorflow:loss = 0.00205469, step = 16501 (0.645 sec)\n",
      "INFO:tensorflow:global_step/sec: 168.45\n",
      "INFO:tensorflow:loss = 0.00472116, step = 16601 (0.591 sec)\n",
      "INFO:tensorflow:global_step/sec: 163.459\n",
      "INFO:tensorflow:loss = 0.00300912, step = 16701 (0.615 sec)\n",
      "INFO:tensorflow:global_step/sec: 178.355\n",
      "INFO:tensorflow:loss = 0.00221508, step = 16801 (0.559 sec)\n",
      "INFO:tensorflow:global_step/sec: 174.761\n",
      "INFO:tensorflow:loss = 0.00274078, step = 16901 (0.574 sec)\n",
      "INFO:tensorflow:global_step/sec: 148.999\n",
      "INFO:tensorflow:loss = 0.00335069, step = 17001 (0.671 sec)\n",
      "INFO:tensorflow:global_step/sec: 134.46\n",
      "INFO:tensorflow:loss = 0.000582267, step = 17101 (0.743 sec)\n",
      "INFO:tensorflow:global_step/sec: 158.913\n",
      "INFO:tensorflow:loss = 0.00259225, step = 17201 (0.630 sec)\n",
      "INFO:tensorflow:global_step/sec: 174.659\n",
      "INFO:tensorflow:loss = 0.000920891, step = 17301 (0.570 sec)\n",
      "INFO:tensorflow:global_step/sec: 168.088\n",
      "INFO:tensorflow:loss = 0.00217769, step = 17401 (0.600 sec)\n",
      "INFO:tensorflow:global_step/sec: 147.245\n",
      "INFO:tensorflow:loss = 0.00163418, step = 17501 (0.676 sec)\n",
      "INFO:tensorflow:global_step/sec: 146.766\n",
      "INFO:tensorflow:loss = 0.000338328, step = 17601 (0.681 sec)\n",
      "INFO:tensorflow:global_step/sec: 137.48\n",
      "INFO:tensorflow:loss = 0.000893746, step = 17701 (0.732 sec)\n",
      "INFO:tensorflow:global_step/sec: 145.703\n",
      "INFO:tensorflow:loss = 0.000348846, step = 17801 (0.687 sec)\n",
      "INFO:tensorflow:global_step/sec: 146.352\n",
      "INFO:tensorflow:loss = 0.00200284, step = 17901 (0.682 sec)\n",
      "INFO:tensorflow:global_step/sec: 142.621\n",
      "INFO:tensorflow:loss = 0.0012488, step = 18001 (0.702 sec)\n",
      "INFO:tensorflow:global_step/sec: 140.146\n",
      "INFO:tensorflow:loss = 0.00122258, step = 18101 (0.710 sec)\n",
      "INFO:tensorflow:global_step/sec: 135.776\n",
      "INFO:tensorflow:loss = 0.00400346, step = 18201 (0.740 sec)\n",
      "INFO:tensorflow:global_step/sec: 163.212\n",
      "INFO:tensorflow:loss = 0.0154516, step = 18301 (0.609 sec)\n",
      "INFO:tensorflow:global_step/sec: 149.116\n",
      "INFO:tensorflow:loss = 0.00357402, step = 18401 (0.673 sec)\n",
      "INFO:tensorflow:global_step/sec: 110.807\n",
      "INFO:tensorflow:loss = 0.00224499, step = 18501 (0.906 sec)\n",
      "INFO:tensorflow:global_step/sec: 153.575\n",
      "INFO:tensorflow:loss = 0.00348468, step = 18601 (0.644 sec)\n",
      "INFO:tensorflow:global_step/sec: 163.615\n",
      "INFO:tensorflow:loss = 0.00106254, step = 18701 (0.615 sec)\n",
      "INFO:tensorflow:global_step/sec: 174.302\n",
      "INFO:tensorflow:loss = 0.00134678, step = 18801 (0.572 sec)\n",
      "INFO:tensorflow:global_step/sec: 182.989\n",
      "INFO:tensorflow:loss = 0.00304573, step = 18901 (0.544 sec)\n",
      "INFO:tensorflow:global_step/sec: 175.986\n",
      "INFO:tensorflow:loss = 0.00137681, step = 19001 (0.571 sec)\n",
      "INFO:tensorflow:global_step/sec: 178.599\n",
      "INFO:tensorflow:loss = 0.000547609, step = 19101 (0.558 sec)\n",
      "INFO:tensorflow:global_step/sec: 183.646\n",
      "INFO:tensorflow:loss = 0.000463684, step = 19201 (0.544 sec)\n",
      "INFO:tensorflow:global_step/sec: 183.878\n",
      "INFO:tensorflow:loss = 0.00509027, step = 19301 (0.545 sec)\n",
      "INFO:tensorflow:global_step/sec: 150.259\n",
      "INFO:tensorflow:loss = 0.000722533, step = 19401 (0.669 sec)\n",
      "INFO:tensorflow:global_step/sec: 119.67\n",
      "INFO:tensorflow:loss = 0.00281473, step = 19501 (0.836 sec)\n",
      "INFO:tensorflow:global_step/sec: 145.097\n",
      "INFO:tensorflow:loss = 0.000629583, step = 19601 (0.690 sec)\n",
      "INFO:tensorflow:global_step/sec: 130.39\n",
      "INFO:tensorflow:loss = 0.000147449, step = 19701 (0.763 sec)\n",
      "INFO:tensorflow:global_step/sec: 174.316\n",
      "INFO:tensorflow:loss = 0.000430371, step = 19801 (0.573 sec)\n",
      "INFO:tensorflow:global_step/sec: 104.565\n",
      "INFO:tensorflow:loss = 0.00136521, step = 19901 (0.958 sec)\n",
      "INFO:tensorflow:global_step/sec: 118.356\n",
      "INFO:tensorflow:loss = 0.0024896, step = 20001 (0.849 sec)\n",
      "INFO:tensorflow:global_step/sec: 105.817\n",
      "INFO:tensorflow:loss = 0.000431558, step = 20101 (0.948 sec)\n",
      "INFO:tensorflow:global_step/sec: 121.644\n",
      "INFO:tensorflow:loss = 0.00192564, step = 20201 (0.820 sec)\n",
      "INFO:tensorflow:global_step/sec: 116.535\n",
      "INFO:tensorflow:loss = 0.000940824, step = 20301 (0.860 sec)\n",
      "INFO:tensorflow:global_step/sec: 110.508\n",
      "INFO:tensorflow:loss = 0.000245953, step = 20401 (0.901 sec)\n",
      "INFO:tensorflow:global_step/sec: 111.293\n",
      "INFO:tensorflow:loss = 0.00025361, step = 20501 (0.901 sec)\n",
      "INFO:tensorflow:global_step/sec: 139.407\n",
      "INFO:tensorflow:loss = 0.00130026, step = 20601 (0.710 sec)\n",
      "INFO:tensorflow:global_step/sec: 166.406\n",
      "INFO:tensorflow:loss = 0.00123567, step = 20701 (0.603 sec)\n",
      "INFO:tensorflow:global_step/sec: 174.442\n",
      "INFO:tensorflow:loss = 0.00204745, step = 20801 (0.571 sec)\n",
      "INFO:tensorflow:global_step/sec: 175.954\n",
      "INFO:tensorflow:loss = 0.00153957, step = 20901 (0.571 sec)\n",
      "INFO:tensorflow:global_step/sec: 176.639\n",
      "INFO:tensorflow:loss = 0.00241378, step = 21001 (0.564 sec)\n",
      "INFO:tensorflow:global_step/sec: 180.022\n",
      "INFO:tensorflow:loss = 0.00142351, step = 21101 (0.558 sec)\n",
      "INFO:tensorflow:global_step/sec: 182.071\n",
      "INFO:tensorflow:loss = 0.00256507, step = 21201 (0.547 sec)\n",
      "INFO:tensorflow:global_step/sec: 178.952\n",
      "INFO:tensorflow:loss = 0.00106203, step = 21301 (0.560 sec)\n",
      "INFO:tensorflow:global_step/sec: 177.796\n",
      "INFO:tensorflow:loss = 0.0025859, step = 21401 (0.563 sec)\n",
      "INFO:tensorflow:global_step/sec: 183.676\n",
      "INFO:tensorflow:loss = 0.000238369, step = 21501 (0.541 sec)\n",
      "INFO:tensorflow:global_step/sec: 181.475\n",
      "INFO:tensorflow:loss = 0.00158536, step = 21601 (0.552 sec)\n",
      "INFO:tensorflow:global_step/sec: 179.828\n",
      "INFO:tensorflow:loss = 0.000727434, step = 21701 (0.557 sec)\n",
      "INFO:tensorflow:global_step/sec: 182.785\n",
      "INFO:tensorflow:loss = 0.000661301, step = 21801 (0.548 sec)\n",
      "INFO:tensorflow:global_step/sec: 124.448\n",
      "INFO:tensorflow:loss = 0.000490357, step = 21901 (0.804 sec)\n",
      "INFO:tensorflow:global_step/sec: 146.089\n",
      "INFO:tensorflow:loss = 0.000124842, step = 22001 (0.686 sec)\n",
      "INFO:tensorflow:global_step/sec: 139.879\n",
      "INFO:tensorflow:loss = 0.000445235, step = 22101 (0.715 sec)\n",
      "INFO:tensorflow:global_step/sec: 168.63\n",
      "INFO:tensorflow:loss = 0.00133724, step = 22201 (0.591 sec)\n",
      "INFO:tensorflow:global_step/sec: 155.135\n",
      "INFO:tensorflow:loss = 0.00247763, step = 22301 (0.645 sec)\n",
      "INFO:tensorflow:global_step/sec: 174.915\n",
      "INFO:tensorflow:loss = 0.00171271, step = 22401 (0.570 sec)\n",
      "INFO:tensorflow:global_step/sec: 176.112\n",
      "INFO:tensorflow:loss = 0.00149307, step = 22501 (0.568 sec)\n",
      "INFO:tensorflow:global_step/sec: 178.699\n",
      "INFO:tensorflow:loss = 0.00392994, step = 22601 (0.561 sec)\n",
      "INFO:tensorflow:global_step/sec: 179.117\n",
      "INFO:tensorflow:loss = 0.000875101, step = 22701 (0.557 sec)\n",
      "INFO:tensorflow:global_step/sec: 180.534\n",
      "INFO:tensorflow:loss = 0.00118385, step = 22801 (0.556 sec)\n",
      "INFO:tensorflow:global_step/sec: 180.022\n",
      "INFO:tensorflow:loss = 0.00240292, step = 22901 (0.553 sec)\n",
      "INFO:tensorflow:global_step/sec: 175.665\n",
      "INFO:tensorflow:loss = 0.000830913, step = 23001 (0.575 sec)\n",
      "INFO:tensorflow:global_step/sec: 177.608\n",
      "INFO:tensorflow:loss = 0.00284528, step = 23101 (0.558 sec)\n",
      "INFO:tensorflow:global_step/sec: 183.19\n"
     ]
    },
    {
     "name": "stdout",
     "output_type": "stream",
     "text": [
      "INFO:tensorflow:loss = 0.00224091, step = 23201 (0.549 sec)\n",
      "INFO:tensorflow:global_step/sec: 175.485\n",
      "INFO:tensorflow:loss = 0.00193402, step = 23301 (0.569 sec)\n",
      "INFO:tensorflow:global_step/sec: 181.048\n",
      "INFO:tensorflow:loss = 0.000599899, step = 23401 (0.552 sec)\n",
      "INFO:tensorflow:global_step/sec: 178.831\n",
      "INFO:tensorflow:loss = 0.000690191, step = 23501 (0.558 sec)\n",
      "INFO:tensorflow:global_step/sec: 180.722\n",
      "INFO:tensorflow:loss = 0.0006689, step = 23601 (0.556 sec)\n",
      "INFO:tensorflow:global_step/sec: 178.651\n",
      "INFO:tensorflow:loss = 0.000450027, step = 23701 (0.559 sec)\n",
      "INFO:tensorflow:global_step/sec: 182.891\n",
      "INFO:tensorflow:loss = 0.00181704, step = 23801 (0.545 sec)\n",
      "INFO:tensorflow:global_step/sec: 165.608\n",
      "INFO:tensorflow:loss = 0.00110625, step = 23901 (0.604 sec)\n",
      "INFO:tensorflow:global_step/sec: 171.172\n",
      "INFO:tensorflow:loss = 0.000971603, step = 24001 (0.587 sec)\n",
      "INFO:tensorflow:global_step/sec: 143.661\n",
      "INFO:tensorflow:loss = 0.000599703, step = 24101 (0.693 sec)\n",
      "INFO:tensorflow:global_step/sec: 108.785\n",
      "INFO:tensorflow:loss = 0.00103672, step = 24201 (0.928 sec)\n",
      "INFO:tensorflow:global_step/sec: 118.921\n",
      "INFO:tensorflow:loss = 0.000316926, step = 24301 (0.835 sec)\n",
      "INFO:tensorflow:global_step/sec: 116.211\n",
      "INFO:tensorflow:loss = 0.00197788, step = 24401 (0.861 sec)\n",
      "INFO:tensorflow:global_step/sec: 141.232\n",
      "INFO:tensorflow:loss = 0.000518455, step = 24501 (0.708 sec)\n",
      "INFO:tensorflow:global_step/sec: 151.373\n",
      "INFO:tensorflow:loss = 0.000293449, step = 24601 (0.665 sec)\n",
      "INFO:tensorflow:global_step/sec: 156.935\n",
      "INFO:tensorflow:loss = 0.00114909, step = 24701 (0.633 sec)\n",
      "INFO:tensorflow:global_step/sec: 157.795\n",
      "INFO:tensorflow:loss = 0.00152487, step = 24801 (0.633 sec)\n",
      "INFO:tensorflow:global_step/sec: 160.452\n",
      "INFO:tensorflow:loss = 0.00201351, step = 24901 (0.625 sec)\n",
      "INFO:tensorflow:global_step/sec: 168.208\n",
      "INFO:tensorflow:loss = 0.000152594, step = 25001 (0.596 sec)\n",
      "INFO:tensorflow:global_step/sec: 154.08\n",
      "INFO:tensorflow:loss = 0.00193388, step = 25101 (0.645 sec)\n",
      "INFO:tensorflow:global_step/sec: 174.409\n",
      "INFO:tensorflow:loss = 0.00282617, step = 25201 (0.574 sec)\n",
      "INFO:tensorflow:global_step/sec: 163.01\n",
      "INFO:tensorflow:loss = 0.000192127, step = 25301 (0.611 sec)\n",
      "INFO:tensorflow:global_step/sec: 133.749\n",
      "INFO:tensorflow:loss = 0.000797401, step = 25401 (0.749 sec)\n",
      "INFO:tensorflow:global_step/sec: 164.782\n",
      "INFO:tensorflow:loss = 0.00124578, step = 25501 (0.605 sec)\n",
      "INFO:tensorflow:global_step/sec: 174.761\n",
      "INFO:tensorflow:loss = 0.00119779, step = 25601 (0.574 sec)\n",
      "INFO:tensorflow:global_step/sec: 180.001\n",
      "INFO:tensorflow:loss = 0.000874612, step = 25701 (0.554 sec)\n",
      "INFO:tensorflow:global_step/sec: 175.167\n",
      "INFO:tensorflow:loss = 0.00136518, step = 25801 (0.571 sec)\n",
      "INFO:tensorflow:global_step/sec: 186.749\n",
      "INFO:tensorflow:loss = 0.00184243, step = 25901 (0.538 sec)\n",
      "INFO:tensorflow:global_step/sec: 181.785\n",
      "INFO:tensorflow:loss = 7.84672e-05, step = 26001 (0.548 sec)\n",
      "INFO:tensorflow:global_step/sec: 185.57\n",
      "INFO:tensorflow:loss = 0.00103029, step = 26101 (0.539 sec)\n",
      "INFO:tensorflow:global_step/sec: 177.287\n",
      "INFO:tensorflow:loss = 0.000715368, step = 26201 (0.565 sec)\n",
      "INFO:tensorflow:global_step/sec: 183.079\n",
      "INFO:tensorflow:loss = 0.000957418, step = 26301 (0.547 sec)\n",
      "INFO:tensorflow:global_step/sec: 182.519\n",
      "INFO:tensorflow:loss = 0.00165632, step = 26401 (0.547 sec)\n",
      "INFO:tensorflow:global_step/sec: 180.565\n",
      "INFO:tensorflow:loss = 0.00100959, step = 26501 (0.552 sec)\n",
      "INFO:tensorflow:global_step/sec: 183.645\n",
      "INFO:tensorflow:loss = 0.000594357, step = 26601 (0.545 sec)\n",
      "INFO:tensorflow:global_step/sec: 183.209\n",
      "INFO:tensorflow:loss = 3.75124e-05, step = 26701 (0.546 sec)\n",
      "INFO:tensorflow:global_step/sec: 182.877\n",
      "INFO:tensorflow:loss = 0.000775705, step = 26801 (0.547 sec)\n",
      "INFO:tensorflow:global_step/sec: 180.307\n",
      "INFO:tensorflow:loss = 0.000904265, step = 26901 (0.554 sec)\n",
      "INFO:tensorflow:global_step/sec: 175.434\n",
      "INFO:tensorflow:loss = 0.000553487, step = 27001 (0.570 sec)\n",
      "INFO:tensorflow:global_step/sec: 179.807\n",
      "INFO:tensorflow:loss = 0.00042911, step = 27101 (0.560 sec)\n",
      "INFO:tensorflow:global_step/sec: 181.533\n",
      "INFO:tensorflow:loss = 0.000641743, step = 27201 (0.549 sec)\n",
      "INFO:tensorflow:global_step/sec: 182.816\n",
      "INFO:tensorflow:loss = 0.00113445, step = 27301 (0.545 sec)\n",
      "INFO:tensorflow:global_step/sec: 177.65\n",
      "INFO:tensorflow:loss = 0.000147887, step = 27401 (0.563 sec)\n",
      "INFO:tensorflow:global_step/sec: 177.273\n",
      "INFO:tensorflow:loss = 0.00149474, step = 27501 (0.564 sec)\n",
      "INFO:tensorflow:global_step/sec: 182.034\n",
      "INFO:tensorflow:loss = 0.00099866, step = 27601 (0.551 sec)\n",
      "INFO:tensorflow:global_step/sec: 182.008\n",
      "INFO:tensorflow:loss = 0.000368925, step = 27701 (0.551 sec)\n",
      "INFO:tensorflow:global_step/sec: 181.944\n",
      "INFO:tensorflow:loss = 0.000700521, step = 27801 (0.548 sec)\n",
      "INFO:tensorflow:global_step/sec: 179.789\n",
      "INFO:tensorflow:loss = 0.000367836, step = 27901 (0.557 sec)\n",
      "INFO:tensorflow:global_step/sec: 163.999\n",
      "INFO:tensorflow:loss = 0.00131156, step = 28001 (0.607 sec)\n",
      "INFO:tensorflow:global_step/sec: 181.635\n",
      "INFO:tensorflow:loss = 0.000550622, step = 28101 (0.551 sec)\n",
      "INFO:tensorflow:global_step/sec: 181.454\n",
      "INFO:tensorflow:loss = 0.00143182, step = 28201 (0.551 sec)\n",
      "INFO:tensorflow:global_step/sec: 184.65\n",
      "INFO:tensorflow:loss = 0.000660615, step = 28301 (0.545 sec)\n",
      "INFO:tensorflow:global_step/sec: 174.066\n",
      "INFO:tensorflow:loss = 0.00102658, step = 28401 (0.572 sec)\n",
      "INFO:tensorflow:global_step/sec: 181.272\n",
      "INFO:tensorflow:loss = 0.000680939, step = 28501 (0.554 sec)\n",
      "INFO:tensorflow:global_step/sec: 181.62\n",
      "INFO:tensorflow:loss = 0.000403072, step = 28601 (0.548 sec)\n",
      "INFO:tensorflow:global_step/sec: 176.107\n",
      "INFO:tensorflow:loss = 0.000918623, step = 28701 (0.568 sec)\n",
      "INFO:tensorflow:global_step/sec: 175.69\n",
      "INFO:tensorflow:loss = 0.000993003, step = 28801 (0.570 sec)\n",
      "INFO:tensorflow:global_step/sec: 179.978\n",
      "INFO:tensorflow:loss = 0.000232585, step = 28901 (0.556 sec)\n",
      "INFO:tensorflow:global_step/sec: 183.035\n",
      "INFO:tensorflow:loss = 0.00192796, step = 29001 (0.549 sec)\n",
      "INFO:tensorflow:global_step/sec: 186.392\n",
      "INFO:tensorflow:loss = 0.00101591, step = 29101 (0.534 sec)\n",
      "INFO:tensorflow:global_step/sec: 180.298\n",
      "INFO:tensorflow:loss = 0.00169011, step = 29201 (0.557 sec)\n",
      "INFO:tensorflow:global_step/sec: 181.093\n",
      "INFO:tensorflow:loss = 0.00108807, step = 29301 (0.553 sec)\n",
      "INFO:tensorflow:global_step/sec: 180.183\n",
      "INFO:tensorflow:loss = 0.00101428, step = 29401 (0.552 sec)\n",
      "INFO:tensorflow:global_step/sec: 189.387\n",
      "INFO:tensorflow:loss = 0.000796202, step = 29501 (0.529 sec)\n",
      "INFO:tensorflow:global_step/sec: 183.4\n",
      "INFO:tensorflow:loss = 0.000337627, step = 29601 (0.547 sec)\n",
      "INFO:tensorflow:global_step/sec: 181.093\n",
      "INFO:tensorflow:loss = 0.000258813, step = 29701 (0.550 sec)\n",
      "INFO:tensorflow:global_step/sec: 181.557\n",
      "INFO:tensorflow:loss = 0.000616941, step = 29801 (0.551 sec)\n",
      "INFO:tensorflow:global_step/sec: 181.404\n",
      "INFO:tensorflow:loss = 0.00074321, step = 29901 (0.554 sec)\n",
      "INFO:tensorflow:global_step/sec: 181.679\n",
      "INFO:tensorflow:loss = 6.01432e-05, step = 30001 (0.547 sec)\n",
      "INFO:tensorflow:global_step/sec: 182.588\n",
      "INFO:tensorflow:loss = 0.000580716, step = 30101 (0.548 sec)\n",
      "INFO:tensorflow:global_step/sec: 184.366\n",
      "INFO:tensorflow:loss = 0.000218506, step = 30201 (0.542 sec)\n",
      "INFO:tensorflow:global_step/sec: 181.132\n",
      "INFO:tensorflow:loss = 0.000837331, step = 30301 (0.556 sec)\n",
      "INFO:tensorflow:global_step/sec: 179.527\n",
      "INFO:tensorflow:loss = 0.00138102, step = 30401 (0.557 sec)\n",
      "INFO:tensorflow:global_step/sec: 175.112\n",
      "INFO:tensorflow:loss = 0.000929428, step = 30501 (0.570 sec)\n",
      "INFO:tensorflow:global_step/sec: 185.371\n",
      "INFO:tensorflow:loss = 0.00146183, step = 30601 (0.538 sec)\n",
      "INFO:tensorflow:global_step/sec: 174.797\n",
      "INFO:tensorflow:loss = 0.000773375, step = 30701 (0.575 sec)\n",
      "INFO:tensorflow:global_step/sec: 180.882\n",
      "INFO:tensorflow:loss = 0.00110586, step = 30801 (0.550 sec)\n",
      "INFO:tensorflow:global_step/sec: 182.614\n",
      "INFO:tensorflow:loss = 0.00121131, step = 30901 (0.548 sec)\n",
      "INFO:tensorflow:global_step/sec: 186.164\n",
      "INFO:tensorflow:loss = 0.00107659, step = 31001 (0.537 sec)\n",
      "INFO:tensorflow:global_step/sec: 181.428\n",
      "INFO:tensorflow:loss = 0.00138425, step = 31101 (0.551 sec)\n",
      "INFO:tensorflow:global_step/sec: 182.685\n",
      "INFO:tensorflow:loss = 0.000538949, step = 31201 (0.547 sec)\n",
      "INFO:tensorflow:global_step/sec: 182.89\n"
     ]
    },
    {
     "name": "stdout",
     "output_type": "stream",
     "text": [
      "INFO:tensorflow:loss = 0.000428765, step = 31301 (0.552 sec)\n",
      "INFO:tensorflow:global_step/sec: 182.239\n",
      "INFO:tensorflow:loss = 0.000609493, step = 31401 (0.547 sec)\n",
      "INFO:tensorflow:global_step/sec: 184.502\n",
      "INFO:tensorflow:loss = 0.00025601, step = 31501 (0.539 sec)\n",
      "INFO:tensorflow:global_step/sec: 175.724\n",
      "INFO:tensorflow:loss = 8.65842e-05, step = 31601 (0.570 sec)\n",
      "INFO:tensorflow:global_step/sec: 185.853\n",
      "INFO:tensorflow:loss = 0.000604256, step = 31701 (0.541 sec)\n",
      "INFO:tensorflow:global_step/sec: 182.877\n",
      "INFO:tensorflow:loss = 9.59904e-05, step = 31801 (0.544 sec)\n",
      "INFO:tensorflow:global_step/sec: 181.593\n",
      "INFO:tensorflow:loss = 0.00079322, step = 31901 (0.552 sec)\n",
      "INFO:tensorflow:global_step/sec: 179.496\n",
      "INFO:tensorflow:loss = 0.000262161, step = 32001 (0.555 sec)\n",
      "INFO:tensorflow:global_step/sec: 183.177\n",
      "INFO:tensorflow:loss = 0.000368648, step = 32101 (0.548 sec)\n",
      "INFO:tensorflow:global_step/sec: 187.553\n",
      "INFO:tensorflow:loss = 0.00113988, step = 32201 (0.531 sec)\n",
      "INFO:tensorflow:global_step/sec: 185.918\n",
      "INFO:tensorflow:loss = 0.00038782, step = 32301 (0.539 sec)\n",
      "INFO:tensorflow:global_step/sec: 181.088\n",
      "INFO:tensorflow:loss = 0.000149349, step = 32401 (0.552 sec)\n",
      "INFO:tensorflow:global_step/sec: 176.746\n",
      "INFO:tensorflow:loss = 0.000642526, step = 32501 (0.565 sec)\n",
      "INFO:tensorflow:global_step/sec: 185.515\n",
      "INFO:tensorflow:loss = 0.000118947, step = 32601 (0.541 sec)\n",
      "INFO:tensorflow:global_step/sec: 186.418\n",
      "INFO:tensorflow:loss = 0.00136909, step = 32701 (0.536 sec)\n",
      "INFO:tensorflow:global_step/sec: 182.876\n",
      "INFO:tensorflow:loss = 0.00105548, step = 32801 (0.547 sec)\n",
      "INFO:tensorflow:global_step/sec: 182.171\n",
      "INFO:tensorflow:loss = 0.0003802, step = 32901 (0.551 sec)\n",
      "INFO:tensorflow:global_step/sec: 179.554\n",
      "INFO:tensorflow:loss = 0.000608995, step = 33001 (0.554 sec)\n",
      "INFO:tensorflow:global_step/sec: 182.236\n",
      "INFO:tensorflow:loss = 0.0019107, step = 33101 (0.551 sec)\n",
      "INFO:tensorflow:global_step/sec: 183.853\n",
      "INFO:tensorflow:loss = 0.000916178, step = 33201 (0.543 sec)\n",
      "INFO:tensorflow:global_step/sec: 182.917\n",
      "INFO:tensorflow:loss = 0.000244862, step = 33301 (0.548 sec)\n",
      "INFO:tensorflow:global_step/sec: 184.293\n",
      "INFO:tensorflow:loss = 0.00129239, step = 33401 (0.539 sec)\n",
      "INFO:tensorflow:global_step/sec: 179.404\n",
      "INFO:tensorflow:loss = 0.000242947, step = 33501 (0.558 sec)\n",
      "INFO:tensorflow:global_step/sec: 180.825\n",
      "INFO:tensorflow:loss = 0.000883703, step = 33601 (0.552 sec)\n",
      "INFO:tensorflow:global_step/sec: 185.586\n",
      "INFO:tensorflow:loss = 0.000904791, step = 33701 (0.541 sec)\n",
      "INFO:tensorflow:global_step/sec: 180.786\n",
      "INFO:tensorflow:loss = 0.00107614, step = 33801 (0.550 sec)\n",
      "INFO:tensorflow:global_step/sec: 181.363\n",
      "INFO:tensorflow:loss = 0.00107961, step = 33901 (0.551 sec)\n",
      "INFO:tensorflow:global_step/sec: 181.783\n",
      "INFO:tensorflow:loss = 0.000613074, step = 34001 (0.553 sec)\n",
      "INFO:tensorflow:global_step/sec: 181.831\n",
      "INFO:tensorflow:loss = 0.00085227, step = 34101 (0.549 sec)\n",
      "INFO:tensorflow:global_step/sec: 184.658\n",
      "INFO:tensorflow:loss = 0.00112095, step = 34201 (0.542 sec)\n",
      "INFO:tensorflow:global_step/sec: 183.984\n",
      "INFO:tensorflow:loss = 0.000104322, step = 34301 (0.542 sec)\n",
      "INFO:tensorflow:global_step/sec: 184.398\n",
      "INFO:tensorflow:loss = 0.000506521, step = 34401 (0.541 sec)\n",
      "INFO:tensorflow:global_step/sec: 182.865\n",
      "INFO:tensorflow:loss = 0.000799231, step = 34501 (0.550 sec)\n",
      "INFO:tensorflow:global_step/sec: 183.613\n",
      "INFO:tensorflow:loss = 0.000381998, step = 34601 (0.542 sec)\n",
      "INFO:tensorflow:global_step/sec: 184.166\n",
      "INFO:tensorflow:loss = 0.00197285, step = 34701 (0.543 sec)\n",
      "INFO:tensorflow:global_step/sec: 185.362\n",
      "INFO:tensorflow:loss = 0.00050132, step = 34801 (0.540 sec)\n",
      "INFO:tensorflow:global_step/sec: 180.76\n",
      "INFO:tensorflow:loss = 0.000430059, step = 34901 (0.555 sec)\n",
      "INFO:tensorflow:global_step/sec: 172.891\n",
      "INFO:tensorflow:loss = 0.000284109, step = 35001 (0.576 sec)\n",
      "INFO:tensorflow:global_step/sec: 158.625\n",
      "INFO:tensorflow:loss = 0.0012278, step = 35101 (0.634 sec)\n",
      "INFO:tensorflow:global_step/sec: 173.996\n",
      "INFO:tensorflow:loss = 0.000280491, step = 35201 (0.571 sec)\n",
      "INFO:tensorflow:global_step/sec: 167.106\n",
      "INFO:tensorflow:loss = 0.000161269, step = 35301 (0.605 sec)\n",
      "INFO:tensorflow:global_step/sec: 181.031\n",
      "INFO:tensorflow:loss = 0.00105551, step = 35401 (0.548 sec)\n",
      "INFO:tensorflow:global_step/sec: 180.881\n",
      "INFO:tensorflow:loss = 0.000203097, step = 35501 (0.553 sec)\n",
      "INFO:tensorflow:global_step/sec: 181.467\n",
      "INFO:tensorflow:loss = 0.000242335, step = 35601 (0.550 sec)\n",
      "INFO:tensorflow:global_step/sec: 175.712\n",
      "INFO:tensorflow:loss = 0.00086094, step = 35701 (0.568 sec)\n",
      "INFO:tensorflow:global_step/sec: 178.975\n",
      "INFO:tensorflow:loss = 0.000918586, step = 35801 (0.559 sec)\n",
      "INFO:tensorflow:global_step/sec: 163.563\n",
      "INFO:tensorflow:loss = 0.000671677, step = 35901 (0.614 sec)\n",
      "INFO:tensorflow:global_step/sec: 180.758\n",
      "INFO:tensorflow:loss = 0.000370165, step = 36001 (0.552 sec)\n",
      "INFO:tensorflow:global_step/sec: 176.211\n",
      "INFO:tensorflow:loss = 0.00120145, step = 36101 (0.567 sec)\n",
      "INFO:tensorflow:global_step/sec: 180.068\n",
      "INFO:tensorflow:loss = 0.000768125, step = 36201 (0.556 sec)\n",
      "INFO:tensorflow:global_step/sec: 178.563\n",
      "INFO:tensorflow:loss = 0.000106661, step = 36301 (0.560 sec)\n",
      "INFO:tensorflow:global_step/sec: 183.975\n",
      "INFO:tensorflow:loss = 0.000681248, step = 36401 (0.541 sec)\n",
      "INFO:tensorflow:global_step/sec: 158.641\n",
      "INFO:tensorflow:loss = 0.000214154, step = 36501 (0.633 sec)\n",
      "INFO:tensorflow:global_step/sec: 180.281\n",
      "INFO:tensorflow:loss = 0.000239673, step = 36601 (0.555 sec)\n",
      "INFO:tensorflow:global_step/sec: 156.74\n",
      "INFO:tensorflow:loss = 0.000405055, step = 36701 (0.635 sec)\n",
      "INFO:tensorflow:global_step/sec: 181.639\n",
      "INFO:tensorflow:loss = 0.000852568, step = 36801 (0.550 sec)\n",
      "INFO:tensorflow:global_step/sec: 180.926\n",
      "INFO:tensorflow:loss = 0.000667005, step = 36901 (0.556 sec)\n",
      "INFO:tensorflow:global_step/sec: 179.698\n",
      "INFO:tensorflow:loss = 0.000488099, step = 37001 (0.553 sec)\n",
      "INFO:tensorflow:global_step/sec: 171.616\n",
      "INFO:tensorflow:loss = 0.000311534, step = 37101 (0.583 sec)\n",
      "INFO:tensorflow:global_step/sec: 178.76\n",
      "INFO:tensorflow:loss = 0.000358862, step = 37201 (0.563 sec)\n",
      "INFO:tensorflow:global_step/sec: 182.705\n",
      "INFO:tensorflow:loss = 0.000707558, step = 37301 (0.544 sec)\n",
      "INFO:tensorflow:global_step/sec: 171.703\n",
      "INFO:tensorflow:loss = 0.000318062, step = 37401 (0.582 sec)\n",
      "INFO:tensorflow:global_step/sec: 172.286\n",
      "INFO:tensorflow:loss = 0.000298998, step = 37501 (0.580 sec)\n",
      "INFO:tensorflow:global_step/sec: 174.495\n",
      "INFO:tensorflow:loss = 0.000414938, step = 37601 (0.573 sec)\n",
      "INFO:tensorflow:global_step/sec: 164.87\n",
      "INFO:tensorflow:loss = 0.000145852, step = 37701 (0.611 sec)\n",
      "INFO:tensorflow:global_step/sec: 161.359\n",
      "INFO:tensorflow:loss = 0.000346428, step = 37801 (0.617 sec)\n",
      "INFO:tensorflow:global_step/sec: 167.213\n",
      "INFO:tensorflow:loss = 0.0015781, step = 37901 (0.600 sec)\n",
      "INFO:tensorflow:global_step/sec: 166.098\n",
      "INFO:tensorflow:loss = 0.000307783, step = 38001 (0.601 sec)\n",
      "INFO:tensorflow:global_step/sec: 164.351\n",
      "INFO:tensorflow:loss = 0.00120952, step = 38101 (0.612 sec)\n",
      "INFO:tensorflow:global_step/sec: 170.393\n",
      "INFO:tensorflow:loss = 0.000719946, step = 38201 (0.583 sec)\n",
      "INFO:tensorflow:global_step/sec: 158.119\n",
      "INFO:tensorflow:loss = 9.19537e-05, step = 38301 (0.635 sec)\n",
      "INFO:tensorflow:global_step/sec: 178.691\n",
      "INFO:tensorflow:loss = 0.000204637, step = 38401 (0.558 sec)\n",
      "INFO:tensorflow:global_step/sec: 150.625\n",
      "INFO:tensorflow:loss = 0.000502236, step = 38501 (0.666 sec)\n",
      "INFO:tensorflow:global_step/sec: 155.163\n",
      "INFO:tensorflow:loss = 0.000743682, step = 38601 (0.639 sec)\n",
      "INFO:tensorflow:global_step/sec: 171.068\n",
      "INFO:tensorflow:loss = 0.000451052, step = 38701 (0.587 sec)\n",
      "INFO:tensorflow:global_step/sec: 181.535\n",
      "INFO:tensorflow:loss = 0.000246905, step = 38801 (0.549 sec)\n",
      "INFO:tensorflow:global_step/sec: 169.692\n",
      "INFO:tensorflow:loss = 0.00129647, step = 38901 (0.589 sec)\n",
      "INFO:tensorflow:global_step/sec: 179.614\n",
      "INFO:tensorflow:loss = 0.000217024, step = 39001 (0.557 sec)\n",
      "INFO:tensorflow:global_step/sec: 164.749\n",
      "INFO:tensorflow:loss = 0.000741188, step = 39101 (0.607 sec)\n",
      "INFO:tensorflow:global_step/sec: 169.099\n",
      "INFO:tensorflow:loss = 0.000570652, step = 39201 (0.592 sec)\n",
      "INFO:tensorflow:global_step/sec: 159.514\n",
      "INFO:tensorflow:loss = 0.000307514, step = 39301 (0.630 sec)\n",
      "INFO:tensorflow:global_step/sec: 168.945\n"
     ]
    },
    {
     "name": "stdout",
     "output_type": "stream",
     "text": [
      "INFO:tensorflow:loss = 0.00066551, step = 39401 (0.590 sec)\n",
      "INFO:tensorflow:global_step/sec: 160.678\n",
      "INFO:tensorflow:loss = 0.000248625, step = 39501 (0.624 sec)\n",
      "INFO:tensorflow:global_step/sec: 164.942\n",
      "INFO:tensorflow:loss = 0.000750375, step = 39601 (0.606 sec)\n",
      "INFO:tensorflow:global_step/sec: 164.513\n",
      "INFO:tensorflow:loss = 0.000224784, step = 39701 (0.608 sec)\n",
      "INFO:tensorflow:global_step/sec: 179.645\n",
      "INFO:tensorflow:loss = 0.00105966, step = 39801 (0.556 sec)\n",
      "INFO:tensorflow:global_step/sec: 176.77\n",
      "INFO:tensorflow:loss = 0.00136582, step = 39901 (0.567 sec)\n",
      "INFO:tensorflow:Saving checkpoints for 40000 into /var/folders/r4/vyv94gpj7_xdkpj85lw7gpdr0000gn/T/tmplg2nia96/model.ckpt.\n",
      "INFO:tensorflow:Loss for final step: 0.00045437.\n"
     ]
    },
    {
     "data": {
      "text/plain": [
       "SKCompat()"
      ]
     },
     "execution_count": 11,
     "metadata": {},
     "output_type": "execute_result"
    }
   ],
   "source": [
    "import tensorflow as tf\n",
    "\n",
    "config = tf.contrib.learn.RunConfig(tf_random_seed=42) # not shown in the config\n",
    "\n",
    "feature_cols = tf.contrib.learn.infer_real_valued_columns_from_input(X_train)\n",
    "dnn_clf = tf.contrib.learn.DNNClassifier(hidden_units=[300,100], n_classes=10,\n",
    "                                         feature_columns=feature_cols, config=config)\n",
    "dnn_clf = tf.contrib.learn.SKCompat(dnn_clf) # if TensorFlow >= 1.1\n",
    "dnn_clf.fit(X_train, y_train, batch_size=50, steps=40000)"
   ]
  },
  {
   "cell_type": "code",
   "execution_count": 12,
   "metadata": {},
   "outputs": [
    {
     "name": "stdout",
     "output_type": "stream",
     "text": [
      "INFO:tensorflow:Restoring parameters from /var/folders/r4/vyv94gpj7_xdkpj85lw7gpdr0000gn/T/tmplg2nia96/model.ckpt-40000\n"
     ]
    },
    {
     "data": {
      "text/plain": [
       "0.98240000000000005"
      ]
     },
     "execution_count": 12,
     "metadata": {},
     "output_type": "execute_result"
    }
   ],
   "source": [
    "from sklearn.metrics import accuracy_score\n",
    "\n",
    "y_pred = dnn_clf.predict(X_test)\n",
    "accuracy_score(y_test, y_pred['classes'])"
   ]
  },
  {
   "cell_type": "code",
   "execution_count": 14,
   "metadata": {},
   "outputs": [
    {
     "data": {
      "text/plain": [
       "0.071563045266568537"
      ]
     },
     "execution_count": 14,
     "metadata": {},
     "output_type": "execute_result"
    }
   ],
   "source": [
    "from sklearn.metrics import log_loss\n",
    "\n",
    "y_pred_proba = y_pred['probabilities']\n",
    "log_loss(y_test, y_pred_proba)"
   ]
  },
  {
   "cell_type": "markdown",
   "metadata": {},
   "source": [
    "### Using plain TensorFlow"
   ]
  },
  {
   "cell_type": "code",
   "execution_count": 15,
   "metadata": {
    "collapsed": true
   },
   "outputs": [],
   "source": [
    "import tensorflow as tf\n",
    "\n",
    "n_inputs = 28*28  # MNIST\n",
    "n_hidden1 = 300\n",
    "n_hidden2 = 100\n",
    "n_outputs = 10"
   ]
  },
  {
   "cell_type": "code",
   "execution_count": 16,
   "metadata": {
    "collapsed": true
   },
   "outputs": [],
   "source": [
    "reset_graph()\n",
    "\n",
    "X = tf.placeholder(tf.float32, shape=(None, n_inputs), name=\"X\")\n",
    "y = tf.placeholder(tf.int64, shape=(None), name=\"y\")"
   ]
  },
  {
   "cell_type": "code",
   "execution_count": 17,
   "metadata": {
    "collapsed": true
   },
   "outputs": [],
   "source": [
    "def neuron_layer(X, n_neurons, name, activation=None):\n",
    "    with tf.name_scope(name):\n",
    "        n_inputs = int(X.get_shape()[1])\n",
    "        stddev = 2 / np.sqrt(n_inputs)\n",
    "        init = tf.truncated_normal((n_inputs, n_neurons), stddev=stddev)\n",
    "        W = tf.Variable(init, name=\"kernel\")\n",
    "        b = tf.Variable(tf.zeros([n_neurons]), name=\"bias\")\n",
    "        Z = tf.matmul(X, W) + b\n",
    "        if activation is not None:\n",
    "            return activation(Z)\n",
    "        else:\n",
    "            return Z"
   ]
  },
  {
   "cell_type": "code",
   "execution_count": 18,
   "metadata": {
    "collapsed": true
   },
   "outputs": [],
   "source": [
    "with tf.name_scope(\"dnn\"):\n",
    "    hidden1 = neuron_layer(X, n_hidden1, name=\"hidden1\",\n",
    "                           activation=tf.nn.relu)\n",
    "    hidden2 = neuron_layer(hidden1, n_hidden2, name=\"hidden2\",\n",
    "                           activation=tf.nn.relu)\n",
    "    logits = neuron_layer(hidden2, n_outputs, name=\"outputs\")"
   ]
  },
  {
   "cell_type": "markdown",
   "metadata": {},
   "source": [
    "The sparse_softmax_cross_entropy_with_logits() function is equivalent to applying the softmax activation function and then computing the cross entropy, but it is more efficient, and it properly takes care of corner cases like logits equal to 0. There is also another function called softmax_cross_entropy_with_logits(), which takes labels in the form of one-hot vectors (instead of ints from 0 to the number of classes minus 1)."
   ]
  },
  {
   "cell_type": "code",
   "execution_count": 19,
   "metadata": {
    "collapsed": true
   },
   "outputs": [],
   "source": [
    "with tf.name_scope(\"loss\"):\n",
    "    xentropy = tf.nn.sparse_softmax_cross_entropy_with_logits(labels=y,\n",
    "                                                              logits=logits)\n",
    "    loss = tf.reduce_mean(xentropy, name=\"loss\")"
   ]
  },
  {
   "cell_type": "code",
   "execution_count": 20,
   "metadata": {
    "collapsed": true
   },
   "outputs": [],
   "source": [
    "learning_rate = 0.01\n",
    "\n",
    "with tf.name_scope(\"train\"):\n",
    "    optimizer = tf.train.GradientDescentOptimizer(learning_rate)\n",
    "    training_op = optimizer.minimize(loss)"
   ]
  },
  {
   "cell_type": "markdown",
   "metadata": {},
   "source": [
    "We will simply use accuracy as performance measure. First, for each instance, determine if the neural network's prediction is correct by checking whether or not the highest logit corresponds to the target class. For this we can use the in_top_k() function. This returns a 1D tensor full of boolean values, so we need to cast these booleans to floats and then computes the average."
   ]
  },
  {
   "cell_type": "code",
   "execution_count": 21,
   "metadata": {
    "collapsed": true
   },
   "outputs": [],
   "source": [
    "with tf.name_scope(\"eval\"):\n",
    "    correct = tf.nn.in_top_k(logits, y, 1)\n",
    "    accuracy = tf.reduce_mean(tf.cast(correct, tf.float32))"
   ]
  },
  {
   "cell_type": "code",
   "execution_count": 22,
   "metadata": {
    "collapsed": true
   },
   "outputs": [],
   "source": [
    "init = tf.global_variables_initializer()\n",
    "saver = tf.train.Saver()"
   ]
  },
  {
   "cell_type": "code",
   "execution_count": 23,
   "metadata": {
    "collapsed": true
   },
   "outputs": [],
   "source": [
    "n_epochs = 40\n",
    "batch_size = 50"
   ]
  },
  {
   "cell_type": "code",
   "execution_count": 24,
   "metadata": {},
   "outputs": [
    {
     "name": "stdout",
     "output_type": "stream",
     "text": [
      "0 Train accuracy: 0.9 Test accuracy: 0.9128\n",
      "1 Train accuracy: 0.94 Test accuracy: 0.9291\n",
      "2 Train accuracy: 0.92 Test accuracy: 0.9398\n",
      "3 Train accuracy: 0.96 Test accuracy: 0.945\n",
      "4 Train accuracy: 0.92 Test accuracy: 0.9513\n",
      "5 Train accuracy: 0.94 Test accuracy: 0.9543\n",
      "6 Train accuracy: 0.98 Test accuracy: 0.9556\n",
      "7 Train accuracy: 0.96 Test accuracy: 0.9593\n",
      "8 Train accuracy: 0.92 Test accuracy: 0.9625\n",
      "9 Train accuracy: 0.96 Test accuracy: 0.9645\n",
      "10 Train accuracy: 0.98 Test accuracy: 0.9651\n",
      "11 Train accuracy: 0.94 Test accuracy: 0.967\n",
      "12 Train accuracy: 1.0 Test accuracy: 0.9691\n",
      "13 Train accuracy: 0.94 Test accuracy: 0.9684\n",
      "14 Train accuracy: 1.0 Test accuracy: 0.9697\n",
      "15 Train accuracy: 1.0 Test accuracy: 0.9714\n",
      "16 Train accuracy: 1.0 Test accuracy: 0.9714\n",
      "17 Train accuracy: 0.98 Test accuracy: 0.9715\n",
      "18 Train accuracy: 1.0 Test accuracy: 0.973\n",
      "19 Train accuracy: 1.0 Test accuracy: 0.973\n",
      "20 Train accuracy: 0.98 Test accuracy: 0.9736\n",
      "21 Train accuracy: 1.0 Test accuracy: 0.974\n",
      "22 Train accuracy: 1.0 Test accuracy: 0.9745\n",
      "23 Train accuracy: 1.0 Test accuracy: 0.9749\n",
      "24 Train accuracy: 1.0 Test accuracy: 0.975\n",
      "25 Train accuracy: 1.0 Test accuracy: 0.9756\n",
      "26 Train accuracy: 1.0 Test accuracy: 0.975\n",
      "27 Train accuracy: 1.0 Test accuracy: 0.9759\n",
      "28 Train accuracy: 0.98 Test accuracy: 0.976\n",
      "29 Train accuracy: 1.0 Test accuracy: 0.9768\n",
      "30 Train accuracy: 1.0 Test accuracy: 0.9766\n",
      "31 Train accuracy: 1.0 Test accuracy: 0.9769\n",
      "32 Train accuracy: 0.98 Test accuracy: 0.9768\n",
      "33 Train accuracy: 0.98 Test accuracy: 0.9764\n",
      "34 Train accuracy: 0.98 Test accuracy: 0.9788\n",
      "35 Train accuracy: 0.98 Test accuracy: 0.9776\n",
      "36 Train accuracy: 0.98 Test accuracy: 0.977\n",
      "37 Train accuracy: 1.0 Test accuracy: 0.9785\n",
      "38 Train accuracy: 1.0 Test accuracy: 0.9784\n",
      "39 Train accuracy: 1.0 Test accuracy: 0.9782\n"
     ]
    }
   ],
   "source": [
    "with tf.Session() as sess:\n",
    "    init.run()\n",
    "    for epoch in range(n_epochs):\n",
    "        for iteration in range(mnist.train.num_examples // batch_size):\n",
    "            X_batch, y_batch = mnist.train.next_batch(batch_size)\n",
    "            sess.run(training_op, feed_dict={X: X_batch, y: y_batch})\n",
    "        acc_train = accuracy.eval(feed_dict={X: X_batch, y: y_batch})\n",
    "        acc_test = accuracy.eval(feed_dict={X: mnist.test.images,\n",
    "                                            y: mnist.test.labels})\n",
    "        print(epoch, \"Train accuracy:\", acc_train, \"Test accuracy:\", acc_test)\n",
    "\n",
    "    save_path = saver.save(sess, \"./my_model_final.ckpt\")"
   ]
  },
  {
   "cell_type": "code",
   "execution_count": 25,
   "metadata": {},
   "outputs": [
    {
     "name": "stdout",
     "output_type": "stream",
     "text": [
      "INFO:tensorflow:Restoring parameters from ./my_model_final.ckpt\n"
     ]
    }
   ],
   "source": [
    "with tf.Session() as sess:\n",
    "    saver.restore(sess, \"./my_model_final.ckpt\") # or better, use save_path\n",
    "    X_new_scaled = mnist.test.images[:20]\n",
    "    Z = logits.eval(feed_dict={X: X_new_scaled})\n",
    "    y_pred = np.argmax(Z, axis=1)"
   ]
  },
  {
   "cell_type": "code",
   "execution_count": 26,
   "metadata": {},
   "outputs": [
    {
     "name": "stdout",
     "output_type": "stream",
     "text": [
      "Predicted classes: [7 2 1 0 4 1 4 9 6 9 0 6 9 0 1 5 9 7 3 4]\n",
      "Actual classes:    [7 2 1 0 4 1 4 9 5 9 0 6 9 0 1 5 9 7 3 4]\n"
     ]
    }
   ],
   "source": [
    "print(\"Predicted classes:\", y_pred)\n",
    "print(\"Actual classes:   \", mnist.test.labels[:20])"
   ]
  },
  {
   "cell_type": "markdown",
   "metadata": {},
   "source": [
    "### Using dense() instead of neuron_layer()"
   ]
  },
  {
   "cell_type": "code",
   "execution_count": 27,
   "metadata": {
    "collapsed": true
   },
   "outputs": [],
   "source": [
    "n_inputs = 28*28  # MNIST\n",
    "n_hidden1 = 300\n",
    "n_hidden2 = 100\n",
    "n_outputs = 10"
   ]
  },
  {
   "cell_type": "code",
   "execution_count": 28,
   "metadata": {
    "collapsed": true
   },
   "outputs": [],
   "source": [
    "reset_graph()\n",
    "\n",
    "X = tf.placeholder(tf.float32, shape=(None, n_inputs), name=\"X\")\n",
    "y = tf.placeholder(tf.int64, shape=(None), name=\"y\")"
   ]
  },
  {
   "cell_type": "code",
   "execution_count": 29,
   "metadata": {
    "collapsed": true
   },
   "outputs": [],
   "source": [
    "with tf.name_scope(\"dnn\"):\n",
    "    hidden1 = tf.layers.dense(X, n_hidden1, name=\"hidden1\",\n",
    "                              activation=tf.nn.relu)        # the default activation is None\n",
    "    hidden2 = tf.layers.dense(hidden1, n_hidden2, name=\"hidden2\",\n",
    "                              activation=tf.nn.relu)\n",
    "    logits = tf.layers.dense(hidden2, n_outputs, name=\"outputs\")"
   ]
  },
  {
   "cell_type": "code",
   "execution_count": 30,
   "metadata": {
    "collapsed": true
   },
   "outputs": [],
   "source": [
    "with tf.name_scope(\"loss\"):\n",
    "    xentropy = tf.nn.sparse_softmax_cross_entropy_with_logits(labels=y, logits=logits)\n",
    "    loss = tf.reduce_mean(xentropy, name=\"loss\")"
   ]
  },
  {
   "cell_type": "code",
   "execution_count": 31,
   "metadata": {
    "collapsed": true
   },
   "outputs": [],
   "source": [
    "learning_rate = 0.01\n",
    "\n",
    "with tf.name_scope(\"train\"):\n",
    "    optimizer = tf.train.GradientDescentOptimizer(learning_rate)\n",
    "    training_op = optimizer.minimize(loss)"
   ]
  },
  {
   "cell_type": "code",
   "execution_count": 32,
   "metadata": {
    "collapsed": true
   },
   "outputs": [],
   "source": [
    "with tf.name_scope(\"eval\"):\n",
    "    correct = tf.nn.in_top_k(logits, y, 1)\n",
    "    accuracy = tf.reduce_mean(tf.cast(correct, tf.float32))"
   ]
  },
  {
   "cell_type": "code",
   "execution_count": 33,
   "metadata": {
    "collapsed": true
   },
   "outputs": [],
   "source": [
    "init = tf.global_variables_initializer()\n",
    "saver = tf.train.Saver()"
   ]
  },
  {
   "cell_type": "code",
   "execution_count": 34,
   "metadata": {},
   "outputs": [
    {
     "name": "stdout",
     "output_type": "stream",
     "text": [
      "0 Train accuracy: 0.9 Test accuracy: 0.9053\n",
      "1 Train accuracy: 0.88 Test accuracy: 0.9206\n",
      "2 Train accuracy: 0.94 Test accuracy: 0.9301\n",
      "3 Train accuracy: 0.94 Test accuracy: 0.9397\n",
      "4 Train accuracy: 0.92 Test accuracy: 0.945\n",
      "5 Train accuracy: 0.94 Test accuracy: 0.9476\n",
      "6 Train accuracy: 0.92 Test accuracy: 0.9514\n",
      "7 Train accuracy: 0.98 Test accuracy: 0.9547\n",
      "8 Train accuracy: 0.96 Test accuracy: 0.9569\n",
      "9 Train accuracy: 0.94 Test accuracy: 0.9605\n",
      "10 Train accuracy: 0.92 Test accuracy: 0.962\n",
      "11 Train accuracy: 0.96 Test accuracy: 0.9631\n",
      "12 Train accuracy: 1.0 Test accuracy: 0.966\n",
      "13 Train accuracy: 0.94 Test accuracy: 0.9656\n",
      "14 Train accuracy: 1.0 Test accuracy: 0.967\n",
      "15 Train accuracy: 0.94 Test accuracy: 0.9682\n",
      "16 Train accuracy: 0.96 Test accuracy: 0.97\n",
      "17 Train accuracy: 0.98 Test accuracy: 0.9695\n",
      "18 Train accuracy: 1.0 Test accuracy: 0.97\n",
      "19 Train accuracy: 1.0 Test accuracy: 0.9708\n"
     ]
    }
   ],
   "source": [
    "n_epochs = 20\n",
    "n_batches = 50\n",
    "\n",
    "with tf.Session() as sess:\n",
    "    init.run()\n",
    "    for epoch in range(n_epochs):\n",
    "        for iteration in range(mnist.train.num_examples // batch_size):\n",
    "            X_batch, y_batch = mnist.train.next_batch(batch_size)\n",
    "            sess.run(training_op, feed_dict={X: X_batch, y: y_batch})\n",
    "        acc_train = accuracy.eval(feed_dict={X: X_batch, y: y_batch})\n",
    "        acc_test = accuracy.eval(feed_dict={X: mnist.test.images, y: mnist.test.labels})\n",
    "        print(epoch, \"Train accuracy:\", acc_train, \"Test accuracy:\", acc_test)\n",
    "\n",
    "    save_path = saver.save(sess, \"./my_model_final.ckpt\")"
   ]
  },
  {
   "cell_type": "markdown",
   "metadata": {},
   "source": [
    "## Exercise"
   ]
  },
  {
   "cell_type": "markdown",
   "metadata": {},
   "source": [
    "## 9."
   ]
  },
  {
   "cell_type": "markdown",
   "metadata": {},
   "source": [
    "Question: Train a deep MLP on the MNIST dataset and see if you can get over 98% precision. Just like in the last exercise of chapter 9, try adding all the bells and whistles (i.e., save checkpoints, restore the last checkpoint in case of an interruption, add summaries, plot learning curves using TensorBoard, and so on).\n",
    "\n",
    "First let's create the deep net. It's exactly the same as earlier, with just one addition: we add a tf.summary.scalar() to track the loss and the accuracy during training, so we can view nice learning curves using TensorBoard."
   ]
  },
  {
   "cell_type": "code",
   "execution_count": 35,
   "metadata": {
    "collapsed": true
   },
   "outputs": [],
   "source": [
    "n_inputs = 28*28  # MNIST\n",
    "n_hidden1 = 300\n",
    "n_hidden2 = 100\n",
    "n_outputs = 10"
   ]
  },
  {
   "cell_type": "code",
   "execution_count": 36,
   "metadata": {
    "collapsed": true
   },
   "outputs": [],
   "source": [
    "reset_graph()\n",
    "\n",
    "X = tf.placeholder(tf.float32, shape=(None, n_inputs), name=\"X\")\n",
    "y = tf.placeholder(tf.int64, shape=(None), name=\"y\")"
   ]
  },
  {
   "cell_type": "code",
   "execution_count": 37,
   "metadata": {
    "collapsed": true
   },
   "outputs": [],
   "source": [
    "with tf.name_scope(\"dnn\"):\n",
    "    hidden1 = tf.layers.dense(X, n_hidden1, name=\"hidden1\",\n",
    "                              activation=tf.nn.relu)\n",
    "    hidden2 = tf.layers.dense(hidden1, n_hidden2, name=\"hidden2\",\n",
    "                              activation=tf.nn.relu)\n",
    "    logits = tf.layers.dense(hidden2, n_outputs, name=\"outputs\")"
   ]
  },
  {
   "cell_type": "code",
   "execution_count": 38,
   "metadata": {
    "collapsed": true
   },
   "outputs": [],
   "source": [
    "with tf.name_scope(\"loss\"):\n",
    "    xentropy = tf.nn.sparse_softmax_cross_entropy_with_logits(labels=y, logits=logits)\n",
    "    loss = tf.reduce_mean(xentropy, name=\"loss\")\n",
    "    loss_summary = tf.summary.scalar('log_loss', loss)"
   ]
  },
  {
   "cell_type": "code",
   "execution_count": 39,
   "metadata": {
    "collapsed": true
   },
   "outputs": [],
   "source": [
    "learning_rate = 0.01\n",
    "\n",
    "with tf.name_scope(\"train\"):\n",
    "    optimizer = tf.train.GradientDescentOptimizer(learning_rate)\n",
    "    training_op = optimizer.minimize(loss)"
   ]
  },
  {
   "cell_type": "code",
   "execution_count": 40,
   "metadata": {
    "collapsed": true
   },
   "outputs": [],
   "source": [
    "with tf.name_scope(\"eval\"):\n",
    "    correct = tf.nn.in_top_k(logits, y, 1)\n",
    "    accuracy = tf.reduce_mean(tf.cast(correct, tf.float32))\n",
    "    accuracy_summary = tf.summary.scalar('accuracy', accuracy)"
   ]
  },
  {
   "cell_type": "code",
   "execution_count": 41,
   "metadata": {
    "collapsed": true
   },
   "outputs": [],
   "source": [
    "init = tf.global_variables_initializer()\n",
    "saver = tf.train.Saver()"
   ]
  },
  {
   "cell_type": "code",
   "execution_count": 42,
   "metadata": {
    "collapsed": true
   },
   "outputs": [],
   "source": [
    "from datetime import datetime\n",
    "\n",
    "def log_dir(prefix=\"\"):\n",
    "    now = datetime.utcnow().strftime(\"%Y%m%d%H%M%S\")\n",
    "    root_logdir = \"tf_logs\"\n",
    "    if prefix:\n",
    "        prefix += \"-\"\n",
    "    name = prefix + \"run-\" + now\n",
    "    return \"{}/{}/\".format(root_logdir, name)"
   ]
  },
  {
   "cell_type": "code",
   "execution_count": 43,
   "metadata": {
    "collapsed": true
   },
   "outputs": [],
   "source": [
    "logdir = log_dir(\"mnist_dnn\")"
   ]
  },
  {
   "cell_type": "markdown",
   "metadata": {},
   "source": [
    "Now we can create the FileWriter that we will use to write the TensorBoard logs:"
   ]
  },
  {
   "cell_type": "code",
   "execution_count": 44,
   "metadata": {
    "collapsed": true
   },
   "outputs": [],
   "source": [
    "file_writer = tf.summary.FileWriter(logdir, tf.get_default_graph())"
   ]
  },
  {
   "cell_type": "markdown",
   "metadata": {},
   "source": [
    "To implement early stopping, we are going to need a validation set. Luckily, the dataset returned by TensorFlow's input_data() function (see above) is already split into a training set (60,000 instances, already shuffled for us), a validation set (5,000 instances) and a test set (5,000 instances). So we can easily define X_valid and y_valid:"
   ]
  },
  {
   "cell_type": "code",
   "execution_count": 45,
   "metadata": {
    "collapsed": true
   },
   "outputs": [],
   "source": [
    "X_valid = mnist.validation.images\n",
    "y_valid = mnist.validation.labels"
   ]
  },
  {
   "cell_type": "code",
   "execution_count": 46,
   "metadata": {
    "collapsed": true
   },
   "outputs": [],
   "source": [
    "m, n = X_train.shape"
   ]
  },
  {
   "cell_type": "code",
   "execution_count": 47,
   "metadata": {},
   "outputs": [
    {
     "name": "stdout",
     "output_type": "stream",
     "text": [
      "Epoch: 0 \tValidation accuracy: 90.440% \tLoss: 0.35228\n",
      "Epoch: 5 \tValidation accuracy: 95.060% \tLoss: 0.17547\n",
      "Epoch: 10 \tValidation accuracy: 96.700% \tLoss: 0.12552\n",
      "Epoch: 15 \tValidation accuracy: 97.220% \tLoss: 0.10435\n",
      "Epoch: 20 \tValidation accuracy: 97.620% \tLoss: 0.08917\n",
      "Epoch: 25 \tValidation accuracy: 97.740% \tLoss: 0.08117\n",
      "Epoch: 30 \tValidation accuracy: 97.800% \tLoss: 0.07792\n",
      "Epoch: 35 \tValidation accuracy: 97.940% \tLoss: 0.07099\n",
      "Epoch: 40 \tValidation accuracy: 97.920% \tLoss: 0.06977\n",
      "Epoch: 45 \tValidation accuracy: 97.880% \tLoss: 0.06771\n",
      "Epoch: 50 \tValidation accuracy: 98.080% \tLoss: 0.06640\n",
      "Epoch: 55 \tValidation accuracy: 98.080% \tLoss: 0.06644\n",
      "Epoch: 60 \tValidation accuracy: 98.180% \tLoss: 0.06517\n",
      "Epoch: 65 \tValidation accuracy: 98.120% \tLoss: 0.06589\n",
      "Epoch: 70 \tValidation accuracy: 98.100% \tLoss: 0.06755\n",
      "Epoch: 75 \tValidation accuracy: 98.160% \tLoss: 0.06710\n",
      "Epoch: 80 \tValidation accuracy: 98.140% \tLoss: 0.06709\n",
      "Epoch: 85 \tValidation accuracy: 98.200% \tLoss: 0.06713\n",
      "Epoch: 90 \tValidation accuracy: 98.180% \tLoss: 0.06703\n",
      "Epoch: 95 \tValidation accuracy: 98.180% \tLoss: 0.06890\n",
      "Epoch: 100 \tValidation accuracy: 98.220% \tLoss: 0.06841\n",
      "Epoch: 105 \tValidation accuracy: 98.140% \tLoss: 0.06893\n",
      "Epoch: 110 \tValidation accuracy: 98.180% \tLoss: 0.06991\n",
      "Early stopping\n"
     ]
    }
   ],
   "source": [
    "n_epochs = 10001\n",
    "batch_size = 50\n",
    "n_batches = int(np.ceil(m / batch_size))\n",
    "\n",
    "checkpoint_path = \"/tmp/my_deep_mnist_model.ckpt\"\n",
    "checkpoint_epoch_path = checkpoint_path + \".epoch\"\n",
    "final_model_path = \"./my_deep_mnist_model\"\n",
    "\n",
    "best_loss = np.infty\n",
    "epochs_without_progress = 0\n",
    "max_epochs_without_progress = 50\n",
    "\n",
    "with tf.Session() as sess:\n",
    "    if os.path.isfile(checkpoint_epoch_path):\n",
    "        # if the checkpoint file exists, restore the model and load the epoch number\n",
    "        with open(checkpoint_epoch_path, \"rb\") as f:\n",
    "            start_epoch = int(f.read())\n",
    "        print(\"Training was interrupted. Continuing at epoch\", start_epoch)\n",
    "        saver.restore(sess, checkpoint_path)\n",
    "    else:\n",
    "        start_epoch = 0\n",
    "        sess.run(init)\n",
    "\n",
    "    for epoch in range(start_epoch, n_epochs):\n",
    "        for iteration in range(mnist.train.num_examples // batch_size):\n",
    "            X_batch, y_batch = mnist.train.next_batch(batch_size)\n",
    "            sess.run(training_op, feed_dict={X: X_batch, y: y_batch})\n",
    "        accuracy_val, loss_val, accuracy_summary_str, loss_summary_str = sess.run([accuracy, loss, accuracy_summary, loss_summary], feed_dict={X: X_valid, y: y_valid})\n",
    "        file_writer.add_summary(accuracy_summary_str, epoch)\n",
    "        file_writer.add_summary(loss_summary_str, epoch)\n",
    "        if epoch % 5 == 0:\n",
    "            print(\"Epoch:\", epoch,\n",
    "                  \"\\tValidation accuracy: {:.3f}%\".format(accuracy_val * 100),\n",
    "                  \"\\tLoss: {:.5f}\".format(loss_val))\n",
    "            saver.save(sess, checkpoint_path)\n",
    "            with open(checkpoint_epoch_path, \"wb\") as f:\n",
    "                f.write(b\"%d\" % (epoch + 1))\n",
    "            if loss_val < best_loss:\n",
    "                saver.save(sess, final_model_path)\n",
    "                best_loss = loss_val\n",
    "            else:\n",
    "                epochs_without_progress += 5\n",
    "                if epochs_without_progress > max_epochs_without_progress:\n",
    "                    print(\"Early stopping\")\n",
    "                    break"
   ]
  },
  {
   "cell_type": "code",
   "execution_count": 48,
   "metadata": {
    "collapsed": true
   },
   "outputs": [],
   "source": [
    "os.remove(checkpoint_epoch_path)"
   ]
  },
  {
   "cell_type": "code",
   "execution_count": 49,
   "metadata": {},
   "outputs": [
    {
     "name": "stdout",
     "output_type": "stream",
     "text": [
      "INFO:tensorflow:Restoring parameters from ./my_deep_mnist_model\n"
     ]
    }
   ],
   "source": [
    "with tf.Session() as sess:\n",
    "    saver.restore(sess, final_model_path)\n",
    "    accuracy_val = accuracy.eval(feed_dict={X: X_test, y: y_test})"
   ]
  },
  {
   "cell_type": "code",
   "execution_count": 50,
   "metadata": {},
   "outputs": [
    {
     "data": {
      "text/plain": [
       "0.9788"
      ]
     },
     "execution_count": 50,
     "metadata": {},
     "output_type": "execute_result"
    }
   ],
   "source": [
    "accuracy_val"
   ]
  },
  {
   "cell_type": "code",
   "execution_count": null,
   "metadata": {
    "collapsed": true
   },
   "outputs": [],
   "source": []
  }
 ],
 "metadata": {
  "kernelspec": {
   "display_name": "documents",
   "language": "python",
   "name": "documents"
  },
  "language_info": {
   "codemirror_mode": {
    "name": "ipython",
    "version": 3
   },
   "file_extension": ".py",
   "mimetype": "text/x-python",
   "name": "python",
   "nbconvert_exporter": "python",
   "pygments_lexer": "ipython3",
   "version": "3.6.1"
  }
 },
 "nbformat": 4,
 "nbformat_minor": 2
}
